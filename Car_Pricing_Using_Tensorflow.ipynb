{
 "cells": [
  {
   "cell_type": "markdown",
   "metadata": {
    "id": "kf37d5GRU4PU"
   },
   "source": [
    "## **Context**\n",
    "\n",
    "The production rates of cars have been rising progressively during the past decade, with almost 92 million cars\n",
    "being produced in the year 2019. This big rise has allowed the used car market to now come\n",
    "into the picture as a growing industry. Due to the high cost of new\n",
    "cars the sale of used cars has been increasing worldwide.\n",
    "A second hand car price prediction model that accurately predicts the\n",
    "value of a car considering a range of features would be of great value."
   ]
  },
  {
   "cell_type": "markdown",
   "metadata": {
    "id": "783YLK7Fe7yV"
   },
   "source": [
    "##**Problem statement**\n",
    "\n",
    "A company named **Ucars** predicts the price of used cars. Lots of customers approach them to get an estimate of the price of the used car that they want to buy.  Let us consider you are a Data Scientist in the Ucars team developing the model that can predict the price of these used cars."
   ]
  },
  {
   "cell_type": "markdown",
   "metadata": {
    "id": "IwAnuKeBgyhF"
   },
   "source": [
    "## **Data Dictionary**\n",
    "\n",
    "We are using the cars dataset from Kaggle, and the description of the features is given below:\n",
    "\n",
    "**Model**: The brand and model of the car\n",
    "\n",
    "**Year**: The year or edition of the model\n",
    "\n",
    "**Transmission**: The type of transmission used by the car (Automatic / Manual)\n",
    "\n",
    "**Mileage**: The standard mileage offered by the car company in kmpl or km/kg\n",
    "\n",
    "**Price**: The price of the car\n",
    "\n",
    "**Color**: Color of the car"
   ]
  },
  {
   "cell_type": "markdown",
   "metadata": {
    "id": "fBYVOvFIkfdm"
   },
   "source": [
    "## Reading the Dataset"
   ]
  },
  {
   "cell_type": "markdown",
   "metadata": {
    "id": "ycFapGk6GTSi"
   },
   "source": [
    "Now, let us import the data and necessary libraries and get it ready for modelling."
   ]
  },
  {
   "cell_type": "code",
   "execution_count": 132,
   "metadata": {
    "colab": {
     "base_uri": "https://localhost:8080/",
     "height": 402
    },
    "id": "hKt0pILMz_sn",
    "outputId": "4dad8341-5034-47e7-afc0-88a712d6b156"
   },
   "outputs": [
    {
     "data": {
      "text/html": [
       "<div>\n",
       "<style scoped>\n",
       "    .dataframe tbody tr th:only-of-type {\n",
       "        vertical-align: middle;\n",
       "    }\n",
       "\n",
       "    .dataframe tbody tr th {\n",
       "        vertical-align: top;\n",
       "    }\n",
       "\n",
       "    .dataframe thead th {\n",
       "        text-align: right;\n",
       "    }\n",
       "</style>\n",
       "<table border=\"1\" class=\"dataframe\">\n",
       "  <thead>\n",
       "    <tr style=\"text-align: right;\">\n",
       "      <th></th>\n",
       "      <th>year</th>\n",
       "      <th>model</th>\n",
       "      <th>price</th>\n",
       "      <th>mileage</th>\n",
       "      <th>color</th>\n",
       "      <th>transmission</th>\n",
       "    </tr>\n",
       "  </thead>\n",
       "  <tbody>\n",
       "    <tr>\n",
       "      <th>0</th>\n",
       "      <td>2011</td>\n",
       "      <td>SEL</td>\n",
       "      <td>21992</td>\n",
       "      <td>7413</td>\n",
       "      <td>Yellow</td>\n",
       "      <td>AUTO</td>\n",
       "    </tr>\n",
       "    <tr>\n",
       "      <th>1</th>\n",
       "      <td>2011</td>\n",
       "      <td>SEL</td>\n",
       "      <td>20995</td>\n",
       "      <td>10926</td>\n",
       "      <td>Gray</td>\n",
       "      <td>AUTO</td>\n",
       "    </tr>\n",
       "    <tr>\n",
       "      <th>2</th>\n",
       "      <td>2011</td>\n",
       "      <td>SEL</td>\n",
       "      <td>19995</td>\n",
       "      <td>7351</td>\n",
       "      <td>Silver</td>\n",
       "      <td>AUTO</td>\n",
       "    </tr>\n",
       "    <tr>\n",
       "      <th>3</th>\n",
       "      <td>2011</td>\n",
       "      <td>SEL</td>\n",
       "      <td>17809</td>\n",
       "      <td>11613</td>\n",
       "      <td>Gray</td>\n",
       "      <td>AUTO</td>\n",
       "    </tr>\n",
       "    <tr>\n",
       "      <th>4</th>\n",
       "      <td>2012</td>\n",
       "      <td>SE</td>\n",
       "      <td>17500</td>\n",
       "      <td>8367</td>\n",
       "      <td>White</td>\n",
       "      <td>AUTO</td>\n",
       "    </tr>\n",
       "    <tr>\n",
       "      <th>...</th>\n",
       "      <td>...</td>\n",
       "      <td>...</td>\n",
       "      <td>...</td>\n",
       "      <td>...</td>\n",
       "      <td>...</td>\n",
       "      <td>...</td>\n",
       "    </tr>\n",
       "    <tr>\n",
       "      <th>145</th>\n",
       "      <td>2006</td>\n",
       "      <td>SES</td>\n",
       "      <td>6200</td>\n",
       "      <td>95000</td>\n",
       "      <td>Silver</td>\n",
       "      <td>AUTO</td>\n",
       "    </tr>\n",
       "    <tr>\n",
       "      <th>146</th>\n",
       "      <td>2002</td>\n",
       "      <td>SE</td>\n",
       "      <td>5995</td>\n",
       "      <td>87003</td>\n",
       "      <td>Red</td>\n",
       "      <td>AUTO</td>\n",
       "    </tr>\n",
       "    <tr>\n",
       "      <th>147</th>\n",
       "      <td>2000</td>\n",
       "      <td>SE</td>\n",
       "      <td>5980</td>\n",
       "      <td>96841</td>\n",
       "      <td>Red</td>\n",
       "      <td>AUTO</td>\n",
       "    </tr>\n",
       "    <tr>\n",
       "      <th>148</th>\n",
       "      <td>2001</td>\n",
       "      <td>SE</td>\n",
       "      <td>4899</td>\n",
       "      <td>151479</td>\n",
       "      <td>Yellow</td>\n",
       "      <td>AUTO</td>\n",
       "    </tr>\n",
       "    <tr>\n",
       "      <th>149</th>\n",
       "      <td>2000</td>\n",
       "      <td>SE</td>\n",
       "      <td>3800</td>\n",
       "      <td>109259</td>\n",
       "      <td>Red</td>\n",
       "      <td>AUTO</td>\n",
       "    </tr>\n",
       "  </tbody>\n",
       "</table>\n",
       "<p>150 rows × 6 columns</p>\n",
       "</div>"
      ],
      "text/plain": [
       "     year model  price  mileage   color transmission\n",
       "0    2011   SEL  21992     7413  Yellow         AUTO\n",
       "1    2011   SEL  20995    10926    Gray         AUTO\n",
       "2    2011   SEL  19995     7351  Silver         AUTO\n",
       "3    2011   SEL  17809    11613    Gray         AUTO\n",
       "4    2012    SE  17500     8367   White         AUTO\n",
       "..    ...   ...    ...      ...     ...          ...\n",
       "145  2006   SES   6200    95000  Silver         AUTO\n",
       "146  2002    SE   5995    87003     Red         AUTO\n",
       "147  2000    SE   5980    96841     Red         AUTO\n",
       "148  2001    SE   4899   151479  Yellow         AUTO\n",
       "149  2000    SE   3800   109259     Red         AUTO\n",
       "\n",
       "[150 rows x 6 columns]"
      ]
     },
     "execution_count": 132,
     "metadata": {},
     "output_type": "execute_result"
    }
   ],
   "source": [
    "import pandas as pd\n",
    "import numpy as np\n",
    "import seaborn as sns\n",
    "import sklearn     \n",
    "from sklearn.model_selection import train_test_split\n",
    "from sklearn import preprocessing\n",
    "import matplotlib.pyplot as plt\n",
    "\n",
    "cars_data = pd.read_csv('usedcars.csv')\n",
    "cars_data"
   ]
  },
  {
   "cell_type": "code",
   "execution_count": 133,
   "metadata": {},
   "outputs": [
    {
     "name": "stdout",
     "output_type": "stream",
     "text": [
      "<class 'pandas.core.frame.DataFrame'>\n",
      "RangeIndex: 150 entries, 0 to 149\n",
      "Data columns (total 6 columns):\n",
      " #   Column        Non-Null Count  Dtype \n",
      "---  ------        --------------  ----- \n",
      " 0   year          150 non-null    int64 \n",
      " 1   model         150 non-null    object\n",
      " 2   price         150 non-null    int64 \n",
      " 3   mileage       150 non-null    int64 \n",
      " 4   color         150 non-null    object\n",
      " 5   transmission  150 non-null    object\n",
      "dtypes: int64(3), object(3)\n",
      "memory usage: 7.2+ KB\n"
     ]
    }
   ],
   "source": [
    "cars_data.info()"
   ]
  },
  {
   "cell_type": "markdown",
   "metadata": {
    "id": "TSs1V-H6Mqpl"
   },
   "source": [
    "##Overview of Dataset"
   ]
  },
  {
   "cell_type": "markdown",
   "metadata": {
    "id": "0-FOadOi4aU1"
   },
   "source": [
    "Let's check the null values in each column of the dataset"
   ]
  },
  {
   "cell_type": "code",
   "execution_count": 134,
   "metadata": {
    "colab": {
     "base_uri": "https://localhost:8080/"
    },
    "id": "nX1zbyI75RMi",
    "outputId": "fac4ca08-7180-479c-abe5-35aec490ba8d"
   },
   "outputs": [
    {
     "data": {
      "text/plain": [
       "year            0\n",
       "model           0\n",
       "price           0\n",
       "mileage         0\n",
       "color           0\n",
       "transmission    0\n",
       "dtype: int64"
      ]
     },
     "execution_count": 134,
     "metadata": {},
     "output_type": "execute_result"
    }
   ],
   "source": [
    "cars_data.isna().sum()"
   ]
  },
  {
   "cell_type": "markdown",
   "metadata": {
    "id": "EqHbbtu2ii7k"
   },
   "source": [
    "* As you can see, there are no null values in any of the column"
   ]
  },
  {
   "cell_type": "markdown",
   "metadata": {
    "id": "5I9LdZ4NjYss"
   },
   "source": [
    "##Data Preprocessing\n",
    "\n"
   ]
  },
  {
   "cell_type": "markdown",
   "metadata": {
    "id": "i59MCLWj4hC7"
   },
   "source": [
    "Let's check for the duplicate observations "
   ]
  },
  {
   "cell_type": "code",
   "execution_count": 135,
   "metadata": {
    "colab": {
     "base_uri": "https://localhost:8080/",
     "height": 402
    },
    "id": "KuU03qQk1WfW",
    "outputId": "09a12fda-0d97-4c74-c4da-d29476daf0d9"
   },
   "outputs": [
    {
     "data": {
      "text/html": [
       "<div>\n",
       "<style scoped>\n",
       "    .dataframe tbody tr th:only-of-type {\n",
       "        vertical-align: middle;\n",
       "    }\n",
       "\n",
       "    .dataframe tbody tr th {\n",
       "        vertical-align: top;\n",
       "    }\n",
       "\n",
       "    .dataframe thead th {\n",
       "        text-align: right;\n",
       "    }\n",
       "</style>\n",
       "<table border=\"1\" class=\"dataframe\">\n",
       "  <thead>\n",
       "    <tr style=\"text-align: right;\">\n",
       "      <th></th>\n",
       "      <th>year</th>\n",
       "      <th>model</th>\n",
       "      <th>price</th>\n",
       "      <th>mileage</th>\n",
       "      <th>color</th>\n",
       "      <th>transmission</th>\n",
       "    </tr>\n",
       "  </thead>\n",
       "  <tbody>\n",
       "    <tr>\n",
       "      <th>0</th>\n",
       "      <td>2011</td>\n",
       "      <td>SEL</td>\n",
       "      <td>21992</td>\n",
       "      <td>7413</td>\n",
       "      <td>Yellow</td>\n",
       "      <td>AUTO</td>\n",
       "    </tr>\n",
       "    <tr>\n",
       "      <th>1</th>\n",
       "      <td>2011</td>\n",
       "      <td>SEL</td>\n",
       "      <td>20995</td>\n",
       "      <td>10926</td>\n",
       "      <td>Gray</td>\n",
       "      <td>AUTO</td>\n",
       "    </tr>\n",
       "    <tr>\n",
       "      <th>2</th>\n",
       "      <td>2011</td>\n",
       "      <td>SEL</td>\n",
       "      <td>19995</td>\n",
       "      <td>7351</td>\n",
       "      <td>Silver</td>\n",
       "      <td>AUTO</td>\n",
       "    </tr>\n",
       "    <tr>\n",
       "      <th>3</th>\n",
       "      <td>2011</td>\n",
       "      <td>SEL</td>\n",
       "      <td>17809</td>\n",
       "      <td>11613</td>\n",
       "      <td>Gray</td>\n",
       "      <td>AUTO</td>\n",
       "    </tr>\n",
       "    <tr>\n",
       "      <th>4</th>\n",
       "      <td>2012</td>\n",
       "      <td>SE</td>\n",
       "      <td>17500</td>\n",
       "      <td>8367</td>\n",
       "      <td>White</td>\n",
       "      <td>AUTO</td>\n",
       "    </tr>\n",
       "    <tr>\n",
       "      <th>...</th>\n",
       "      <td>...</td>\n",
       "      <td>...</td>\n",
       "      <td>...</td>\n",
       "      <td>...</td>\n",
       "      <td>...</td>\n",
       "      <td>...</td>\n",
       "    </tr>\n",
       "    <tr>\n",
       "      <th>145</th>\n",
       "      <td>2006</td>\n",
       "      <td>SES</td>\n",
       "      <td>6200</td>\n",
       "      <td>95000</td>\n",
       "      <td>Silver</td>\n",
       "      <td>AUTO</td>\n",
       "    </tr>\n",
       "    <tr>\n",
       "      <th>146</th>\n",
       "      <td>2002</td>\n",
       "      <td>SE</td>\n",
       "      <td>5995</td>\n",
       "      <td>87003</td>\n",
       "      <td>Red</td>\n",
       "      <td>AUTO</td>\n",
       "    </tr>\n",
       "    <tr>\n",
       "      <th>147</th>\n",
       "      <td>2000</td>\n",
       "      <td>SE</td>\n",
       "      <td>5980</td>\n",
       "      <td>96841</td>\n",
       "      <td>Red</td>\n",
       "      <td>AUTO</td>\n",
       "    </tr>\n",
       "    <tr>\n",
       "      <th>148</th>\n",
       "      <td>2001</td>\n",
       "      <td>SE</td>\n",
       "      <td>4899</td>\n",
       "      <td>151479</td>\n",
       "      <td>Yellow</td>\n",
       "      <td>AUTO</td>\n",
       "    </tr>\n",
       "    <tr>\n",
       "      <th>149</th>\n",
       "      <td>2000</td>\n",
       "      <td>SE</td>\n",
       "      <td>3800</td>\n",
       "      <td>109259</td>\n",
       "      <td>Red</td>\n",
       "      <td>AUTO</td>\n",
       "    </tr>\n",
       "  </tbody>\n",
       "</table>\n",
       "<p>150 rows × 6 columns</p>\n",
       "</div>"
      ],
      "text/plain": [
       "     year model  price  mileage   color transmission\n",
       "0    2011   SEL  21992     7413  Yellow         AUTO\n",
       "1    2011   SEL  20995    10926    Gray         AUTO\n",
       "2    2011   SEL  19995     7351  Silver         AUTO\n",
       "3    2011   SEL  17809    11613    Gray         AUTO\n",
       "4    2012    SE  17500     8367   White         AUTO\n",
       "..    ...   ...    ...      ...     ...          ...\n",
       "145  2006   SES   6200    95000  Silver         AUTO\n",
       "146  2002    SE   5995    87003     Red         AUTO\n",
       "147  2000    SE   5980    96841     Red         AUTO\n",
       "148  2001    SE   4899   151479  Yellow         AUTO\n",
       "149  2000    SE   3800   109259     Red         AUTO\n",
       "\n",
       "[150 rows x 6 columns]"
      ]
     },
     "execution_count": 135,
     "metadata": {},
     "output_type": "execute_result"
    }
   ],
   "source": [
    "#just some basic preprocessing\n",
    "cars_data.drop_duplicates()"
   ]
  },
  {
   "cell_type": "markdown",
   "metadata": {
    "id": "pfYjUPOJINo5"
   },
   "source": [
    "Notice that the last three columns (color, Transmission, Model) are not numerical values, but categorical entries?\n",
    "\n",
    "To utilise the columns, we’ll need to find a way to make them numerical, and a perfect technique is One-hot Encoding"
   ]
  },
  {
   "cell_type": "code",
   "execution_count": 136,
   "metadata": {
    "colab": {
     "base_uri": "https://localhost:8080/",
     "height": 422
    },
    "id": "HPD7mUN2IQBp",
    "outputId": "57334c4e-007f-48aa-8c15-c1400bafccd3"
   },
   "outputs": [
    {
     "data": {
      "text/html": [
       "<div>\n",
       "<style scoped>\n",
       "    .dataframe tbody tr th:only-of-type {\n",
       "        vertical-align: middle;\n",
       "    }\n",
       "\n",
       "    .dataframe tbody tr th {\n",
       "        vertical-align: top;\n",
       "    }\n",
       "\n",
       "    .dataframe thead th {\n",
       "        text-align: right;\n",
       "    }\n",
       "</style>\n",
       "<table border=\"1\" class=\"dataframe\">\n",
       "  <thead>\n",
       "    <tr style=\"text-align: right;\">\n",
       "      <th></th>\n",
       "      <th>year</th>\n",
       "      <th>price</th>\n",
       "      <th>mileage</th>\n",
       "      <th>model_SEL</th>\n",
       "      <th>model_SES</th>\n",
       "      <th>color_Blue</th>\n",
       "      <th>color_Gold</th>\n",
       "      <th>color_Gray</th>\n",
       "      <th>color_Green</th>\n",
       "      <th>color_Red</th>\n",
       "      <th>color_Silver</th>\n",
       "      <th>color_White</th>\n",
       "      <th>color_Yellow</th>\n",
       "      <th>transmission_MANUAL</th>\n",
       "    </tr>\n",
       "  </thead>\n",
       "  <tbody>\n",
       "    <tr>\n",
       "      <th>0</th>\n",
       "      <td>2011.0</td>\n",
       "      <td>21992.0</td>\n",
       "      <td>7413.0</td>\n",
       "      <td>1.0</td>\n",
       "      <td>0.0</td>\n",
       "      <td>0.0</td>\n",
       "      <td>0.0</td>\n",
       "      <td>0.0</td>\n",
       "      <td>0.0</td>\n",
       "      <td>0.0</td>\n",
       "      <td>0.0</td>\n",
       "      <td>0.0</td>\n",
       "      <td>1.0</td>\n",
       "      <td>0.0</td>\n",
       "    </tr>\n",
       "    <tr>\n",
       "      <th>1</th>\n",
       "      <td>2011.0</td>\n",
       "      <td>20995.0</td>\n",
       "      <td>10926.0</td>\n",
       "      <td>1.0</td>\n",
       "      <td>0.0</td>\n",
       "      <td>0.0</td>\n",
       "      <td>0.0</td>\n",
       "      <td>1.0</td>\n",
       "      <td>0.0</td>\n",
       "      <td>0.0</td>\n",
       "      <td>0.0</td>\n",
       "      <td>0.0</td>\n",
       "      <td>0.0</td>\n",
       "      <td>0.0</td>\n",
       "    </tr>\n",
       "    <tr>\n",
       "      <th>2</th>\n",
       "      <td>2011.0</td>\n",
       "      <td>19995.0</td>\n",
       "      <td>7351.0</td>\n",
       "      <td>1.0</td>\n",
       "      <td>0.0</td>\n",
       "      <td>0.0</td>\n",
       "      <td>0.0</td>\n",
       "      <td>0.0</td>\n",
       "      <td>0.0</td>\n",
       "      <td>0.0</td>\n",
       "      <td>1.0</td>\n",
       "      <td>0.0</td>\n",
       "      <td>0.0</td>\n",
       "      <td>0.0</td>\n",
       "    </tr>\n",
       "    <tr>\n",
       "      <th>3</th>\n",
       "      <td>2011.0</td>\n",
       "      <td>17809.0</td>\n",
       "      <td>11613.0</td>\n",
       "      <td>1.0</td>\n",
       "      <td>0.0</td>\n",
       "      <td>0.0</td>\n",
       "      <td>0.0</td>\n",
       "      <td>1.0</td>\n",
       "      <td>0.0</td>\n",
       "      <td>0.0</td>\n",
       "      <td>0.0</td>\n",
       "      <td>0.0</td>\n",
       "      <td>0.0</td>\n",
       "      <td>0.0</td>\n",
       "    </tr>\n",
       "    <tr>\n",
       "      <th>4</th>\n",
       "      <td>2012.0</td>\n",
       "      <td>17500.0</td>\n",
       "      <td>8367.0</td>\n",
       "      <td>0.0</td>\n",
       "      <td>0.0</td>\n",
       "      <td>0.0</td>\n",
       "      <td>0.0</td>\n",
       "      <td>0.0</td>\n",
       "      <td>0.0</td>\n",
       "      <td>0.0</td>\n",
       "      <td>0.0</td>\n",
       "      <td>1.0</td>\n",
       "      <td>0.0</td>\n",
       "      <td>0.0</td>\n",
       "    </tr>\n",
       "    <tr>\n",
       "      <th>...</th>\n",
       "      <td>...</td>\n",
       "      <td>...</td>\n",
       "      <td>...</td>\n",
       "      <td>...</td>\n",
       "      <td>...</td>\n",
       "      <td>...</td>\n",
       "      <td>...</td>\n",
       "      <td>...</td>\n",
       "      <td>...</td>\n",
       "      <td>...</td>\n",
       "      <td>...</td>\n",
       "      <td>...</td>\n",
       "      <td>...</td>\n",
       "      <td>...</td>\n",
       "    </tr>\n",
       "    <tr>\n",
       "      <th>145</th>\n",
       "      <td>2006.0</td>\n",
       "      <td>6200.0</td>\n",
       "      <td>95000.0</td>\n",
       "      <td>0.0</td>\n",
       "      <td>1.0</td>\n",
       "      <td>0.0</td>\n",
       "      <td>0.0</td>\n",
       "      <td>0.0</td>\n",
       "      <td>0.0</td>\n",
       "      <td>0.0</td>\n",
       "      <td>1.0</td>\n",
       "      <td>0.0</td>\n",
       "      <td>0.0</td>\n",
       "      <td>0.0</td>\n",
       "    </tr>\n",
       "    <tr>\n",
       "      <th>146</th>\n",
       "      <td>2002.0</td>\n",
       "      <td>5995.0</td>\n",
       "      <td>87003.0</td>\n",
       "      <td>0.0</td>\n",
       "      <td>0.0</td>\n",
       "      <td>0.0</td>\n",
       "      <td>0.0</td>\n",
       "      <td>0.0</td>\n",
       "      <td>0.0</td>\n",
       "      <td>1.0</td>\n",
       "      <td>0.0</td>\n",
       "      <td>0.0</td>\n",
       "      <td>0.0</td>\n",
       "      <td>0.0</td>\n",
       "    </tr>\n",
       "    <tr>\n",
       "      <th>147</th>\n",
       "      <td>2000.0</td>\n",
       "      <td>5980.0</td>\n",
       "      <td>96841.0</td>\n",
       "      <td>0.0</td>\n",
       "      <td>0.0</td>\n",
       "      <td>0.0</td>\n",
       "      <td>0.0</td>\n",
       "      <td>0.0</td>\n",
       "      <td>0.0</td>\n",
       "      <td>1.0</td>\n",
       "      <td>0.0</td>\n",
       "      <td>0.0</td>\n",
       "      <td>0.0</td>\n",
       "      <td>0.0</td>\n",
       "    </tr>\n",
       "    <tr>\n",
       "      <th>148</th>\n",
       "      <td>2001.0</td>\n",
       "      <td>4899.0</td>\n",
       "      <td>151479.0</td>\n",
       "      <td>0.0</td>\n",
       "      <td>0.0</td>\n",
       "      <td>0.0</td>\n",
       "      <td>0.0</td>\n",
       "      <td>0.0</td>\n",
       "      <td>0.0</td>\n",
       "      <td>0.0</td>\n",
       "      <td>0.0</td>\n",
       "      <td>0.0</td>\n",
       "      <td>1.0</td>\n",
       "      <td>0.0</td>\n",
       "    </tr>\n",
       "    <tr>\n",
       "      <th>149</th>\n",
       "      <td>2000.0</td>\n",
       "      <td>3800.0</td>\n",
       "      <td>109259.0</td>\n",
       "      <td>0.0</td>\n",
       "      <td>0.0</td>\n",
       "      <td>0.0</td>\n",
       "      <td>0.0</td>\n",
       "      <td>0.0</td>\n",
       "      <td>0.0</td>\n",
       "      <td>1.0</td>\n",
       "      <td>0.0</td>\n",
       "      <td>0.0</td>\n",
       "      <td>0.0</td>\n",
       "      <td>0.0</td>\n",
       "    </tr>\n",
       "  </tbody>\n",
       "</table>\n",
       "<p>150 rows × 14 columns</p>\n",
       "</div>"
      ],
      "text/plain": [
       "       year    price   mileage  model_SEL  model_SES  color_Blue  color_Gold  \\\n",
       "0    2011.0  21992.0    7413.0        1.0        0.0         0.0         0.0   \n",
       "1    2011.0  20995.0   10926.0        1.0        0.0         0.0         0.0   \n",
       "2    2011.0  19995.0    7351.0        1.0        0.0         0.0         0.0   \n",
       "3    2011.0  17809.0   11613.0        1.0        0.0         0.0         0.0   \n",
       "4    2012.0  17500.0    8367.0        0.0        0.0         0.0         0.0   \n",
       "..      ...      ...       ...        ...        ...         ...         ...   \n",
       "145  2006.0   6200.0   95000.0        0.0        1.0         0.0         0.0   \n",
       "146  2002.0   5995.0   87003.0        0.0        0.0         0.0         0.0   \n",
       "147  2000.0   5980.0   96841.0        0.0        0.0         0.0         0.0   \n",
       "148  2001.0   4899.0  151479.0        0.0        0.0         0.0         0.0   \n",
       "149  2000.0   3800.0  109259.0        0.0        0.0         0.0         0.0   \n",
       "\n",
       "     color_Gray  color_Green  color_Red  color_Silver  color_White  \\\n",
       "0           0.0          0.0        0.0           0.0          0.0   \n",
       "1           1.0          0.0        0.0           0.0          0.0   \n",
       "2           0.0          0.0        0.0           1.0          0.0   \n",
       "3           1.0          0.0        0.0           0.0          0.0   \n",
       "4           0.0          0.0        0.0           0.0          1.0   \n",
       "..          ...          ...        ...           ...          ...   \n",
       "145         0.0          0.0        0.0           1.0          0.0   \n",
       "146         0.0          0.0        1.0           0.0          0.0   \n",
       "147         0.0          0.0        1.0           0.0          0.0   \n",
       "148         0.0          0.0        0.0           0.0          0.0   \n",
       "149         0.0          0.0        1.0           0.0          0.0   \n",
       "\n",
       "     color_Yellow  transmission_MANUAL  \n",
       "0             1.0                  0.0  \n",
       "1             0.0                  0.0  \n",
       "2             0.0                  0.0  \n",
       "3             0.0                  0.0  \n",
       "4             0.0                  0.0  \n",
       "..            ...                  ...  \n",
       "145           0.0                  0.0  \n",
       "146           0.0                  0.0  \n",
       "147           0.0                  0.0  \n",
       "148           1.0                  0.0  \n",
       "149           0.0                  0.0  \n",
       "\n",
       "[150 rows x 14 columns]"
      ]
     },
     "execution_count": 136,
     "metadata": {},
     "output_type": "execute_result"
    }
   ],
   "source": [
    "#creating dummy variables for the categorical features\n",
    "cars_ori=cars_data\n",
    "cars_data = pd.get_dummies(cars_data,drop_first=True)\n",
    "cars_data = cars_data.astype('float32') # we will need to convert the dataset to float in order to be able to convert it into tensors later.\n",
    "cars_data"
   ]
  },
  {
   "cell_type": "markdown",
   "metadata": {
    "id": "OKflWRQOkUyJ"
   },
   "source": [
    "Exploring the column names"
   ]
  },
  {
   "cell_type": "code",
   "execution_count": 137,
   "metadata": {
    "colab": {
     "base_uri": "https://localhost:8080/"
    },
    "id": "y4YBIUaZ5zG4",
    "outputId": "075de84e-d15a-4c72-8a11-cc7f2d6205af"
   },
   "outputs": [
    {
     "data": {
      "text/plain": [
       "Index(['year', 'price', 'mileage', 'model_SEL', 'model_SES', 'color_Blue',\n",
       "       'color_Gold', 'color_Gray', 'color_Green', 'color_Red', 'color_Silver',\n",
       "       'color_White', 'color_Yellow', 'transmission_MANUAL'],\n",
       "      dtype='object')"
      ]
     },
     "execution_count": 137,
     "metadata": {},
     "output_type": "execute_result"
    }
   ],
   "source": [
    "cars_data.columns"
   ]
  },
  {
   "cell_type": "markdown",
   "metadata": {
    "id": "HVSV4mC3ky-4"
   },
   "source": [
    "##Inspecting the data\n",
    "\n"
   ]
  },
  {
   "cell_type": "markdown",
   "metadata": {
    "id": "2LzGCuYnieMm"
   },
   "source": [
    "##Univariate Analysis"
   ]
  },
  {
   "cell_type": "markdown",
   "metadata": {
    "id": "Yn6vpOVVFpeP"
   },
   "source": [
    "It’s always good to get some insight about the target variable. The target or dependent variable is price in our case.\n"
   ]
  },
  {
   "cell_type": "code",
   "execution_count": 138,
   "metadata": {
    "colab": {
     "base_uri": "https://localhost:8080/"
    },
    "id": "_ggwGlB_E_mD",
    "outputId": "93703bc1-9d14-4aad-b602-eb4392addfef"
   },
   "outputs": [
    {
     "name": "stdout",
     "output_type": "stream",
     "text": [
      "12961.93359375\n",
      "13591.5\n"
     ]
    }
   ],
   "source": [
    "df=cars_data\n",
    "print(df.price.mean())\n",
    "print(df.price.median())\n"
   ]
  },
  {
   "cell_type": "markdown",
   "metadata": {
    "id": "jP0_SbMEFx68"
   },
   "source": [
    "Mean is slightly  lesser than median which indicates there are few outliers or extreme values. Let’s also check maximum and minimum values:"
   ]
  },
  {
   "cell_type": "code",
   "execution_count": 139,
   "metadata": {
    "colab": {
     "base_uri": "https://localhost:8080/"
    },
    "id": "zMfZWVhYFCzL",
    "outputId": "73c5c435-4a56-4fd8-b63a-8b514c2bc1e0"
   },
   "outputs": [
    {
     "name": "stdout",
     "output_type": "stream",
     "text": [
      "21992.0\n",
      "3800.0\n"
     ]
    }
   ],
   "source": [
    "print(df.price.max())\n",
    "print(df.price.min())\n"
   ]
  },
  {
   "cell_type": "code",
   "execution_count": 140,
   "metadata": {
    "colab": {
     "base_uri": "https://localhost:8080/",
     "height": 474
    },
    "id": "uQ5_bZ_TF7-Z",
    "outputId": "7c3924a4-e551-45d7-dba7-dde287284819"
   },
   "outputs": [
    {
     "data": {
      "text/plain": [
       "Text(0.5, 1.0, 'Frequency Distribution Plot of Prices')"
      ]
     },
     "execution_count": 140,
     "metadata": {},
     "output_type": "execute_result"
    },
    {
     "data": {
      "image/png": "[encoded data removed]",
      "text/plain": [
       "<Figure size 720x432 with 1 Axes>"
      ]
     },
     "metadata": {
      "needs_background": "light"
     },
     "output_type": "display_data"
    }
   ],
   "source": [
    "# x = df.price\n",
    "x = df['price']\n",
    "plt.figure(figsize=(10,6))\n",
    "sns.distplot(x).set_title('Frequency Distribution Plot of Prices')"
   ]
  },
  {
   "cell_type": "markdown",
   "metadata": {
    "id": "DpPhF8aZGeL8"
   },
   "source": [
    "It can be seen from the graph that the data is looking approx symmetric and the peak is around 10000-15000. Another way of checking the distribution and outliers is boxplot:"
   ]
  },
  {
   "cell_type": "code",
   "execution_count": 141,
   "metadata": {
    "colab": {
     "base_uri": "https://localhost:8080/",
     "height": 323
    },
    "id": "JkS_PpBfGCh9",
    "outputId": "16796e14-ad0e-40e9-8c05-42a8b9b2c0ff"
   },
   "outputs": [
    {
     "data": {
      "text/plain": [
       "<AxesSubplot:ylabel='price'>"
      ]
     },
     "execution_count": 141,
     "metadata": {},
     "output_type": "execute_result"
    },
    {
     "data": {
      "image/png": "[encoded data removed]",
      "text/plain": [
       "<Figure size 576x360 with 1 Axes>"
      ]
     },
     "metadata": {
      "needs_background": "light"
     },
     "output_type": "display_data"
    }
   ],
   "source": [
    "plt.figure(figsize=(8,5))\n",
    "sns.boxplot(y='price', data=df, width=0.5)"
   ]
  },
  {
   "cell_type": "markdown",
   "metadata": {
    "id": "6FEJ78DGLoVP"
   },
   "source": [
    "###Removing Outliers \n",
    "\n",
    "Dependent variable \"price\" contains  4 data points which are outliers. The loss function which will be used for regression is MSE. Having outliers in the response variable might give biased model. Let's remove these data points .\n",
    "\n",
    "\n",
    "\n"
   ]
  },
  {
   "cell_type": "code",
   "execution_count": 142,
   "metadata": {
    "id": "yI8NP_tGKC-k"
   },
   "outputs": [],
   "source": [
    "#Removing the outlier datapoints because these point might disrupt the modelling\n",
    "df.drop(df[df.price>20000].index,inplace=True,axis=0)\n",
    "df.drop(df[df.price<5200].index,inplace=True,axis=0)"
   ]
  },
  {
   "cell_type": "code",
   "execution_count": 143,
   "metadata": {},
   "outputs": [
    {
     "data": {
      "text/plain": [
       "<AxesSubplot:ylabel='price'>"
      ]
     },
     "execution_count": 143,
     "metadata": {},
     "output_type": "execute_result"
    },
    {
     "data": {
      "image/png": "[encoded data removed]",
      "text/plain": [
       "<Figure size 576x360 with 1 Axes>"
      ]
     },
     "metadata": {
      "needs_background": "light"
     },
     "output_type": "display_data"
    }
   ],
   "source": [
    "plt.figure(figsize=(8,5))\n",
    "sns.boxplot(y='price', data=df, width=0.5)"
   ]
  },
  {
   "cell_type": "code",
   "execution_count": 144,
   "metadata": {
    "colab": {
     "base_uri": "https://localhost:8080/",
     "height": 422
    },
    "id": "NpCZxzg0Ld5r",
    "outputId": "9bb6b849-e955-48e5-94e0-ac73650a06de"
   },
   "outputs": [
    {
     "data": {
      "text/html": [
       "<div>\n",
       "<style scoped>\n",
       "    .dataframe tbody tr th:only-of-type {\n",
       "        vertical-align: middle;\n",
       "    }\n",
       "\n",
       "    .dataframe tbody tr th {\n",
       "        vertical-align: top;\n",
       "    }\n",
       "\n",
       "    .dataframe thead th {\n",
       "        text-align: right;\n",
       "    }\n",
       "</style>\n",
       "<table border=\"1\" class=\"dataframe\">\n",
       "  <thead>\n",
       "    <tr style=\"text-align: right;\">\n",
       "      <th></th>\n",
       "      <th>year</th>\n",
       "      <th>price</th>\n",
       "      <th>mileage</th>\n",
       "      <th>model_SEL</th>\n",
       "      <th>model_SES</th>\n",
       "      <th>color_Blue</th>\n",
       "      <th>color_Gold</th>\n",
       "      <th>color_Gray</th>\n",
       "      <th>color_Green</th>\n",
       "      <th>color_Red</th>\n",
       "      <th>color_Silver</th>\n",
       "      <th>color_White</th>\n",
       "      <th>color_Yellow</th>\n",
       "      <th>transmission_MANUAL</th>\n",
       "    </tr>\n",
       "  </thead>\n",
       "  <tbody>\n",
       "    <tr>\n",
       "      <th>2</th>\n",
       "      <td>2011.0</td>\n",
       "      <td>19995.0</td>\n",
       "      <td>7351.0</td>\n",
       "      <td>1.0</td>\n",
       "      <td>0.0</td>\n",
       "      <td>0.0</td>\n",
       "      <td>0.0</td>\n",
       "      <td>0.0</td>\n",
       "      <td>0.0</td>\n",
       "      <td>0.0</td>\n",
       "      <td>1.0</td>\n",
       "      <td>0.0</td>\n",
       "      <td>0.0</td>\n",
       "      <td>0.0</td>\n",
       "    </tr>\n",
       "    <tr>\n",
       "      <th>3</th>\n",
       "      <td>2011.0</td>\n",
       "      <td>17809.0</td>\n",
       "      <td>11613.0</td>\n",
       "      <td>1.0</td>\n",
       "      <td>0.0</td>\n",
       "      <td>0.0</td>\n",
       "      <td>0.0</td>\n",
       "      <td>1.0</td>\n",
       "      <td>0.0</td>\n",
       "      <td>0.0</td>\n",
       "      <td>0.0</td>\n",
       "      <td>0.0</td>\n",
       "      <td>0.0</td>\n",
       "      <td>0.0</td>\n",
       "    </tr>\n",
       "    <tr>\n",
       "      <th>4</th>\n",
       "      <td>2012.0</td>\n",
       "      <td>17500.0</td>\n",
       "      <td>8367.0</td>\n",
       "      <td>0.0</td>\n",
       "      <td>0.0</td>\n",
       "      <td>0.0</td>\n",
       "      <td>0.0</td>\n",
       "      <td>0.0</td>\n",
       "      <td>0.0</td>\n",
       "      <td>0.0</td>\n",
       "      <td>0.0</td>\n",
       "      <td>1.0</td>\n",
       "      <td>0.0</td>\n",
       "      <td>0.0</td>\n",
       "    </tr>\n",
       "    <tr>\n",
       "      <th>5</th>\n",
       "      <td>2010.0</td>\n",
       "      <td>17495.0</td>\n",
       "      <td>25125.0</td>\n",
       "      <td>1.0</td>\n",
       "      <td>0.0</td>\n",
       "      <td>0.0</td>\n",
       "      <td>0.0</td>\n",
       "      <td>0.0</td>\n",
       "      <td>0.0</td>\n",
       "      <td>0.0</td>\n",
       "      <td>1.0</td>\n",
       "      <td>0.0</td>\n",
       "      <td>0.0</td>\n",
       "      <td>0.0</td>\n",
       "    </tr>\n",
       "    <tr>\n",
       "      <th>6</th>\n",
       "      <td>2011.0</td>\n",
       "      <td>17000.0</td>\n",
       "      <td>27393.0</td>\n",
       "      <td>1.0</td>\n",
       "      <td>0.0</td>\n",
       "      <td>1.0</td>\n",
       "      <td>0.0</td>\n",
       "      <td>0.0</td>\n",
       "      <td>0.0</td>\n",
       "      <td>0.0</td>\n",
       "      <td>0.0</td>\n",
       "      <td>0.0</td>\n",
       "      <td>0.0</td>\n",
       "      <td>0.0</td>\n",
       "    </tr>\n",
       "    <tr>\n",
       "      <th>...</th>\n",
       "      <td>...</td>\n",
       "      <td>...</td>\n",
       "      <td>...</td>\n",
       "      <td>...</td>\n",
       "      <td>...</td>\n",
       "      <td>...</td>\n",
       "      <td>...</td>\n",
       "      <td>...</td>\n",
       "      <td>...</td>\n",
       "      <td>...</td>\n",
       "      <td>...</td>\n",
       "      <td>...</td>\n",
       "      <td>...</td>\n",
       "      <td>...</td>\n",
       "    </tr>\n",
       "    <tr>\n",
       "      <th>143</th>\n",
       "      <td>2004.0</td>\n",
       "      <td>6980.0</td>\n",
       "      <td>101130.0</td>\n",
       "      <td>0.0</td>\n",
       "      <td>1.0</td>\n",
       "      <td>0.0</td>\n",
       "      <td>0.0</td>\n",
       "      <td>1.0</td>\n",
       "      <td>0.0</td>\n",
       "      <td>0.0</td>\n",
       "      <td>0.0</td>\n",
       "      <td>0.0</td>\n",
       "      <td>0.0</td>\n",
       "      <td>0.0</td>\n",
       "    </tr>\n",
       "    <tr>\n",
       "      <th>144</th>\n",
       "      <td>2004.0</td>\n",
       "      <td>6950.0</td>\n",
       "      <td>119720.0</td>\n",
       "      <td>0.0</td>\n",
       "      <td>1.0</td>\n",
       "      <td>0.0</td>\n",
       "      <td>0.0</td>\n",
       "      <td>0.0</td>\n",
       "      <td>0.0</td>\n",
       "      <td>0.0</td>\n",
       "      <td>0.0</td>\n",
       "      <td>0.0</td>\n",
       "      <td>0.0</td>\n",
       "      <td>0.0</td>\n",
       "    </tr>\n",
       "    <tr>\n",
       "      <th>145</th>\n",
       "      <td>2006.0</td>\n",
       "      <td>6200.0</td>\n",
       "      <td>95000.0</td>\n",
       "      <td>0.0</td>\n",
       "      <td>1.0</td>\n",
       "      <td>0.0</td>\n",
       "      <td>0.0</td>\n",
       "      <td>0.0</td>\n",
       "      <td>0.0</td>\n",
       "      <td>0.0</td>\n",
       "      <td>1.0</td>\n",
       "      <td>0.0</td>\n",
       "      <td>0.0</td>\n",
       "      <td>0.0</td>\n",
       "    </tr>\n",
       "    <tr>\n",
       "      <th>146</th>\n",
       "      <td>2002.0</td>\n",
       "      <td>5995.0</td>\n",
       "      <td>87003.0</td>\n",
       "      <td>0.0</td>\n",
       "      <td>0.0</td>\n",
       "      <td>0.0</td>\n",
       "      <td>0.0</td>\n",
       "      <td>0.0</td>\n",
       "      <td>0.0</td>\n",
       "      <td>1.0</td>\n",
       "      <td>0.0</td>\n",
       "      <td>0.0</td>\n",
       "      <td>0.0</td>\n",
       "      <td>0.0</td>\n",
       "    </tr>\n",
       "    <tr>\n",
       "      <th>147</th>\n",
       "      <td>2000.0</td>\n",
       "      <td>5980.0</td>\n",
       "      <td>96841.0</td>\n",
       "      <td>0.0</td>\n",
       "      <td>0.0</td>\n",
       "      <td>0.0</td>\n",
       "      <td>0.0</td>\n",
       "      <td>0.0</td>\n",
       "      <td>0.0</td>\n",
       "      <td>1.0</td>\n",
       "      <td>0.0</td>\n",
       "      <td>0.0</td>\n",
       "      <td>0.0</td>\n",
       "      <td>0.0</td>\n",
       "    </tr>\n",
       "  </tbody>\n",
       "</table>\n",
       "<p>146 rows × 14 columns</p>\n",
       "</div>"
      ],
      "text/plain": [
       "       year    price   mileage  model_SEL  model_SES  color_Blue  color_Gold  \\\n",
       "2    2011.0  19995.0    7351.0        1.0        0.0         0.0         0.0   \n",
       "3    2011.0  17809.0   11613.0        1.0        0.0         0.0         0.0   \n",
       "4    2012.0  17500.0    8367.0        0.0        0.0         0.0         0.0   \n",
       "5    2010.0  17495.0   25125.0        1.0        0.0         0.0         0.0   \n",
       "6    2011.0  17000.0   27393.0        1.0        0.0         1.0         0.0   \n",
       "..      ...      ...       ...        ...        ...         ...         ...   \n",
       "143  2004.0   6980.0  101130.0        0.0        1.0         0.0         0.0   \n",
       "144  2004.0   6950.0  119720.0        0.0        1.0         0.0         0.0   \n",
       "145  2006.0   6200.0   95000.0        0.0        1.0         0.0         0.0   \n",
       "146  2002.0   5995.0   87003.0        0.0        0.0         0.0         0.0   \n",
       "147  2000.0   5980.0   96841.0        0.0        0.0         0.0         0.0   \n",
       "\n",
       "     color_Gray  color_Green  color_Red  color_Silver  color_White  \\\n",
       "2           0.0          0.0        0.0           1.0          0.0   \n",
       "3           1.0          0.0        0.0           0.0          0.0   \n",
       "4           0.0          0.0        0.0           0.0          1.0   \n",
       "5           0.0          0.0        0.0           1.0          0.0   \n",
       "6           0.0          0.0        0.0           0.0          0.0   \n",
       "..          ...          ...        ...           ...          ...   \n",
       "143         1.0          0.0        0.0           0.0          0.0   \n",
       "144         0.0          0.0        0.0           0.0          0.0   \n",
       "145         0.0          0.0        0.0           1.0          0.0   \n",
       "146         0.0          0.0        1.0           0.0          0.0   \n",
       "147         0.0          0.0        1.0           0.0          0.0   \n",
       "\n",
       "     color_Yellow  transmission_MANUAL  \n",
       "2             0.0                  0.0  \n",
       "3             0.0                  0.0  \n",
       "4             0.0                  0.0  \n",
       "5             0.0                  0.0  \n",
       "6             0.0                  0.0  \n",
       "..            ...                  ...  \n",
       "143           0.0                  0.0  \n",
       "144           0.0                  0.0  \n",
       "145           0.0                  0.0  \n",
       "146           0.0                  0.0  \n",
       "147           0.0                  0.0  \n",
       "\n",
       "[146 rows x 14 columns]"
      ]
     },
     "execution_count": 144,
     "metadata": {},
     "output_type": "execute_result"
    }
   ],
   "source": [
    "#printing the dataframe\n",
    "cars_data=df\n",
    "df"
   ]
  },
  {
   "cell_type": "markdown",
   "metadata": {
    "id": "7u__iOsOijWW"
   },
   "source": [
    "##Bivariate analysis"
   ]
  },
  {
   "cell_type": "markdown",
   "metadata": {
    "id": "eGEUMkqqX6DZ"
   },
   "source": [
    "Manual and Automatic Cars"
   ]
  },
  {
   "cell_type": "code",
   "execution_count": 145,
   "metadata": {
    "colab": {
     "base_uri": "https://localhost:8080/",
     "height": 762
    },
    "id": "ILfsLrekURMt",
    "outputId": "0374eeae-f2c9-4cb0-d1c7-5641e7dbbf61"
   },
   "outputs": [
    {
     "data": {
      "image/png": "[encoded data removed]",
      "text/plain": [
       "<Figure size 834.75x756 with 12 Axes>"
      ]
     },
     "metadata": {
      "needs_background": "light"
     },
     "output_type": "display_data"
    }
   ],
   "source": [
    "sns.pairplot(cars_ori,hue = 'transmission',diag_kind = \"kde\",kind = \"scatter\",palette = \"husl\",height=3.5)\n",
    "plt.show()"
   ]
  },
  {
   "cell_type": "markdown",
   "metadata": {
    "id": "OlKxUNMtWEem"
   },
   "source": [
    "* We can see that automatic cars have higher price range than manual type cars though the distribution of automatic cars were skewed to the right. \n",
    "* year and price have some amount of linear relationship which means cars which are manufactured recently are costly\n",
    "\n",
    "* price and mileage is having linear relationship with negative slope which means costly cars have less mileage"
   ]
  },
  {
   "cell_type": "markdown",
   "metadata": {
    "id": "3ltIeMQD6zK5"
   },
   "source": [
    "Lets visualize  the correlation between the features "
   ]
  },
  {
   "cell_type": "code",
   "execution_count": 146,
   "metadata": {
    "colab": {
     "base_uri": "https://localhost:8080/",
     "height": 986
    },
    "id": "ACR3I0u8pCrF",
    "outputId": "35bddf80-6af2-4049-d7da-069fbe4597dd"
   },
   "outputs": [
    {
     "data": {
      "text/plain": [
       "<AxesSubplot:>"
      ]
     },
     "execution_count": 146,
     "metadata": {},
     "output_type": "execute_result"
    },
    {
     "data": {
      "image/png": "[encoded data removed]",
      "text/plain": [
       "<Figure size 1080x1080 with 2 Axes>"
      ]
     },
     "metadata": {
      "needs_background": "light"
     },
     "output_type": "display_data"
    }
   ],
   "source": [
    "fig, ax = plt.subplots(figsize=(15,15))\n",
    "sns.heatmap(cars_data.corr(),cmap=\"Blues\",ax=ax,annot=True)"
   ]
  },
  {
   "cell_type": "markdown",
   "metadata": {
    "id": "Up-Jb9QmoV2V"
   },
   "source": [
    "* year and price are having high positive correlation. \n",
    "\n",
    "* mileage and price are high negative corrlation. \n",
    "\n",
    "* year and mileage are having high negative correlation.\n"
   ]
  },
  {
   "cell_type": "markdown",
   "metadata": {
    "id": "ISvXubVWmeee"
   },
   "source": [
    "## Separate the features from labels\n",
    "\n"
   ]
  },
  {
   "cell_type": "code",
   "execution_count": 147,
   "metadata": {
    "id": "8Glng4BjmvBr"
   },
   "outputs": [],
   "source": [
    "#getting the features and labels and finally splitting the test and train data.\n",
    "\n",
    "X = cars_data[['year','mileage', 'model_SEL', 'model_SES',\n",
    "     'color_Blue', 'color_Gold', 'color_Gray', 'color_Green',\n",
    "       'color_Red', 'color_Silver', 'color_White', 'color_Yellow',\n",
    "       ]]\n",
    "Y = cars_data['price']"
   ]
  },
  {
   "cell_type": "markdown",
   "metadata": {
    "id": "uA0vS4tHm4tg"
   },
   "source": [
    "## Splitting the dataset"
   ]
  },
  {
   "cell_type": "code",
   "execution_count": 148,
   "metadata": {
    "id": "xhihQaPY6LfN"
   },
   "outputs": [],
   "source": [
    "#Splitting the training and test set\n",
    "X_train, X_test, y_train, y_test = train_test_split(X, Y, test_size=0.20, random_state=1)\n",
    "#Splitting the train set into  dev set and training set\n",
    "X_train, X_val, y_train, y_val = train_test_split(X_train, y_train, test_size=0.20, random_state=1)"
   ]
  },
  {
   "cell_type": "markdown",
   "metadata": {
    "id": "LRffP2lZHIX_"
   },
   "source": [
    "## Normalizing the train and test data separately"
   ]
  },
  {
   "cell_type": "code",
   "execution_count": 149,
   "metadata": {
    "id": "rr_uUi6iHHnK"
   },
   "outputs": [],
   "source": [
    "scaler = preprocessing.MinMaxScaler()\n",
    "# MinMaxScalar has been used here. You can go ahead and use the other scalars available and chcek the effect on the results.\n",
    "#fitting the transform on test and train separately\n",
    "X_train = scaler.fit_transform(X_train)\n",
    "X_test = scaler.transform(X_test)\n",
    "X_val = scaler.transform(X_val)\n",
    "\n",
    "# create target scaler object\n",
    "\n",
    "target_scaler = preprocessing.MinMaxScaler()\n",
    "y_train = target_scaler.fit_transform(y_train.values.reshape(-1,1))\n",
    "y_test = target_scaler.transform(y_test.values.reshape(-1,1))\n",
    "y_val=target_scaler.transform(y_val.values.reshape(-1,1))\n"
   ]
  },
  {
   "cell_type": "code",
   "execution_count": 150,
   "metadata": {
    "colab": {
     "base_uri": "https://localhost:8080/"
    },
    "id": "GPXmhZRlECGk",
    "outputId": "08e9b0d3-64bd-4702-9f55-3e44b195eb39"
   },
   "outputs": [
    {
     "data": {
      "text/plain": [
       "(24, 12)"
      ]
     },
     "execution_count": 150,
     "metadata": {},
     "output_type": "execute_result"
    }
   ],
   "source": [
    "#Printing the data after normalization\n",
    "X_val.shape"
   ]
  },
  {
   "cell_type": "code",
   "execution_count": 151,
   "metadata": {},
   "outputs": [
    {
     "data": {
      "text/plain": [
       "(92, 12)"
      ]
     },
     "execution_count": 151,
     "metadata": {},
     "output_type": "execute_result"
    }
   ],
   "source": [
    "X_train.shape"
   ]
  },
  {
   "cell_type": "code",
   "execution_count": 152,
   "metadata": {},
   "outputs": [
    {
     "data": {
      "text/plain": [
       "(24, 1)"
      ]
     },
     "execution_count": 152,
     "metadata": {},
     "output_type": "execute_result"
    }
   ],
   "source": [
    "y_val.shape"
   ]
  },
  {
   "cell_type": "markdown",
   "metadata": {
    "id": "bNDkgeWMm-O2"
   },
   "source": [
    "## Converting the Numpy array into tensors "
   ]
  },
  {
   "cell_type": "code",
   "execution_count": 153,
   "metadata": {
    "id": "PHjzg7vF5z0T"
   },
   "outputs": [],
   "source": [
    "# let us now convert the data elements into tensors as we need tensors to be fed into different tensorflow based operations\n",
    "\n",
    "X_train1=tf.convert_to_tensor(X_train)\n",
    "y_train1=tf.convert_to_tensor(y_train)\n",
    "X_test1=tf.convert_to_tensor(X_test)\n",
    "y_test1=tf.convert_to_tensor(y_test)\n",
    "X_val1=tf.convert_to_tensor(X_val)\n",
    "y_val1=tf.convert_to_tensor(y_val)"
   ]
  },
  {
   "cell_type": "code",
   "execution_count": 154,
   "metadata": {
    "colab": {
     "base_uri": "https://localhost:8080/"
    },
    "id": "6ZEQAKqs66EO",
    "outputId": "161c652b-d4df-4a64-8562-71ca0cfe89d8"
   },
   "outputs": [
    {
     "data": {
      "text/plain": [
       "TensorShape([92, 12])"
      ]
     },
     "execution_count": 154,
     "metadata": {},
     "output_type": "execute_result"
    }
   ],
   "source": [
    "#printing the shape of training tensor\n",
    "X_train1.shape"
   ]
  },
  {
   "cell_type": "markdown",
   "metadata": {
    "id": "0-rlwxfvDBMd"
   },
   "source": [
    "## Model building"
   ]
  },
  {
   "cell_type": "markdown",
   "metadata": {
    "id": "SM89Et2sGJ8v"
   },
   "source": [
    "### TensorFlow implementation"
   ]
  },
  {
   "cell_type": "markdown",
   "metadata": {
    "id": "mecQN830IGb9"
   },
   "source": [
    "#### Let us try modelling now. We will use a few concepts covered in the practice exercise shared with the course material."
   ]
  },
  {
   "cell_type": "code",
   "execution_count": 155,
   "metadata": {
    "id": "Uhitqoj2FH8U"
   },
   "outputs": [],
   "source": [
    "input_dim = X_train1.shape[1]\n",
    "output_dim = 1\n",
    "learning_rate = 0.01\n",
    "\n",
    "# Let us initialize the weights and bias variables. \n",
    "weights = tf.Variable(tf.zeros(shape=(input_dim, 1), dtype= tf.float32))\n",
    "bias = tf.Variable(tf.ones(shape=(1,), dtype= tf.float32))\n",
    "\n",
    "def predict(features):\n",
    "  return tf.matmul(features, weights) + bias # note that the matmul is matrix multiplication and is needed for calculating predictions\n",
    "\n",
    "def compute_loss(y_true, predictions):\n",
    "  return tf.reduce_mean(tf.square(y_true - predictions)) # mean square error\n",
    "\n",
    "# Let us now define a function to train the model. We will call the other functions in function definition.\n",
    "def train(x, y,x1,y1):\n",
    "  with tf.GradientTape() as tape:\n",
    "    predictions = predict(x)\n",
    "    loss = compute_loss(y, predictions)\n",
    "    \n",
    "    dloss_dw, dloss_db = tape.gradient(loss, [weights, bias]) #note that we can pass lists as well here.\n",
    "  weights.assign_sub(learning_rate * dloss_dw)\n",
    "  bias.assign_sub(learning_rate * dloss_db)\n",
    "  #calculating the validation loss\n",
    "  predictions1 = predict(x1)\n",
    "  v_loss = compute_loss(y1, predictions1)\n",
    "  \n",
    "  return loss,v_loss"
   ]
  },
  {
   "cell_type": "markdown",
   "metadata": {
    "id": "pcVzQimxJJe2"
   },
   "source": [
    "#### Let us now call the train function with 1000 epochs"
   ]
  },
  {
   "cell_type": "code",
   "execution_count": 156,
   "metadata": {
    "colab": {
     "base_uri": "https://localhost:8080/"
    },
    "id": "rWFBawhVoM4j",
    "outputId": "a3471cdd-d0b5-49ec-b1d9-9cf684e239d8"
   },
   "outputs": [
    {
     "name": "stdout",
     "output_type": "stream",
     "text": [
      "Epoch 0: Training Loss = 0.2957, validation_loss= 0.2697\n",
      "Epoch 1: Training Loss = 0.2777, validation_loss= 0.2542\n",
      "Epoch 2: Training Loss = 0.2610, validation_loss= 0.2398\n",
      "Epoch 3: Training Loss = 0.2456, validation_loss= 0.2264\n",
      "Epoch 4: Training Loss = 0.2313, validation_loss= 0.2141\n",
      "Epoch 5: Training Loss = 0.2180, validation_loss= 0.2026\n",
      "Epoch 6: Training Loss = 0.2057, validation_loss= 0.1920\n",
      "Epoch 7: Training Loss = 0.1942, validation_loss= 0.1822\n",
      "Epoch 8: Training Loss = 0.1837, validation_loss= 0.1731\n",
      "Epoch 9: Training Loss = 0.1739, validation_loss= 0.1646\n",
      "Epoch 10: Training Loss = 0.1648, validation_loss= 0.1568\n",
      "Epoch 11: Training Loss = 0.1563, validation_loss= 0.1495\n",
      "Epoch 12: Training Loss = 0.1485, validation_loss= 0.1428\n",
      "Epoch 13: Training Loss = 0.1412, validation_loss= 0.1366\n",
      "Epoch 14: Training Loss = 0.1345, validation_loss= 0.1308\n",
      "Epoch 15: Training Loss = 0.1283, validation_loss= 0.1255\n",
      "Epoch 16: Training Loss = 0.1225, validation_loss= 0.1205\n",
      "Epoch 17: Training Loss = 0.1171, validation_loss= 0.1159\n",
      "Epoch 18: Training Loss = 0.1121, validation_loss= 0.1116\n",
      "Epoch 19: Training Loss = 0.1075, validation_loss= 0.1076\n",
      "Epoch 20: Training Loss = 0.1032, validation_loss= 0.1039\n",
      "Epoch 21: Training Loss = 0.0992, validation_loss= 0.1005\n",
      "Epoch 22: Training Loss = 0.0955, validation_loss= 0.0974\n",
      "Epoch 23: Training Loss = 0.0921, validation_loss= 0.0944\n",
      "Epoch 24: Training Loss = 0.0889, validation_loss= 0.0917\n",
      "Epoch 25: Training Loss = 0.0859, validation_loss= 0.0891\n",
      "Epoch 26: Training Loss = 0.0832, validation_loss= 0.0868\n",
      "Epoch 27: Training Loss = 0.0806, validation_loss= 0.0846\n",
      "Epoch 28: Training Loss = 0.0782, validation_loss= 0.0825\n",
      "Epoch 29: Training Loss = 0.0760, validation_loss= 0.0806\n",
      "Epoch 30: Training Loss = 0.0740, validation_loss= 0.0788\n",
      "Epoch 31: Training Loss = 0.0720, validation_loss= 0.0772\n",
      "Epoch 32: Training Loss = 0.0703, validation_loss= 0.0756\n",
      "Epoch 33: Training Loss = 0.0686, validation_loss= 0.0742\n",
      "Epoch 34: Training Loss = 0.0670, validation_loss= 0.0729\n",
      "Epoch 35: Training Loss = 0.0656, validation_loss= 0.0716\n",
      "Epoch 36: Training Loss = 0.0643, validation_loss= 0.0705\n",
      "Epoch 37: Training Loss = 0.0630, validation_loss= 0.0694\n",
      "Epoch 38: Training Loss = 0.0618, validation_loss= 0.0683\n",
      "Epoch 39: Training Loss = 0.0608, validation_loss= 0.0674\n",
      "Epoch 40: Training Loss = 0.0597, validation_loss= 0.0665\n",
      "Epoch 41: Training Loss = 0.0588, validation_loss= 0.0657\n",
      "Epoch 42: Training Loss = 0.0579, validation_loss= 0.0649\n",
      "Epoch 43: Training Loss = 0.0571, validation_loss= 0.0641\n",
      "Epoch 44: Training Loss = 0.0563, validation_loss= 0.0634\n",
      "Epoch 45: Training Loss = 0.0556, validation_loss= 0.0628\n",
      "Epoch 46: Training Loss = 0.0549, validation_loss= 0.0622\n",
      "Epoch 47: Training Loss = 0.0542, validation_loss= 0.0616\n",
      "Epoch 48: Training Loss = 0.0536, validation_loss= 0.0610\n",
      "Epoch 49: Training Loss = 0.0531, validation_loss= 0.0605\n",
      "Epoch 50: Training Loss = 0.0525, validation_loss= 0.0600\n",
      "Epoch 51: Training Loss = 0.0520, validation_loss= 0.0596\n",
      "Epoch 52: Training Loss = 0.0516, validation_loss= 0.0591\n",
      "Epoch 53: Training Loss = 0.0511, validation_loss= 0.0587\n",
      "Epoch 54: Training Loss = 0.0507, validation_loss= 0.0583\n",
      "Epoch 55: Training Loss = 0.0503, validation_loss= 0.0579\n",
      "Epoch 56: Training Loss = 0.0500, validation_loss= 0.0576\n",
      "Epoch 57: Training Loss = 0.0496, validation_loss= 0.0572\n",
      "Epoch 58: Training Loss = 0.0493, validation_loss= 0.0569\n",
      "Epoch 59: Training Loss = 0.0489, validation_loss= 0.0566\n",
      "Epoch 60: Training Loss = 0.0486, validation_loss= 0.0563\n",
      "Epoch 61: Training Loss = 0.0484, validation_loss= 0.0560\n",
      "Epoch 62: Training Loss = 0.0481, validation_loss= 0.0557\n",
      "Epoch 63: Training Loss = 0.0478, validation_loss= 0.0554\n",
      "Epoch 64: Training Loss = 0.0476, validation_loss= 0.0552\n",
      "Epoch 65: Training Loss = 0.0473, validation_loss= 0.0549\n",
      "Epoch 66: Training Loss = 0.0471, validation_loss= 0.0547\n",
      "Epoch 67: Training Loss = 0.0469, validation_loss= 0.0544\n",
      "Epoch 68: Training Loss = 0.0467, validation_loss= 0.0542\n",
      "Epoch 69: Training Loss = 0.0465, validation_loss= 0.0540\n",
      "Epoch 70: Training Loss = 0.0463, validation_loss= 0.0538\n",
      "Epoch 71: Training Loss = 0.0461, validation_loss= 0.0536\n",
      "Epoch 72: Training Loss = 0.0459, validation_loss= 0.0533\n",
      "Epoch 73: Training Loss = 0.0457, validation_loss= 0.0531\n",
      "Epoch 74: Training Loss = 0.0456, validation_loss= 0.0529\n",
      "Epoch 75: Training Loss = 0.0454, validation_loss= 0.0528\n",
      "Epoch 76: Training Loss = 0.0453, validation_loss= 0.0526\n",
      "Epoch 77: Training Loss = 0.0451, validation_loss= 0.0524\n",
      "Epoch 78: Training Loss = 0.0450, validation_loss= 0.0522\n",
      "Epoch 79: Training Loss = 0.0448, validation_loss= 0.0520\n",
      "Epoch 80: Training Loss = 0.0447, validation_loss= 0.0518\n",
      "Epoch 81: Training Loss = 0.0445, validation_loss= 0.0517\n",
      "Epoch 82: Training Loss = 0.0444, validation_loss= 0.0515\n",
      "Epoch 83: Training Loss = 0.0443, validation_loss= 0.0513\n",
      "Epoch 84: Training Loss = 0.0441, validation_loss= 0.0512\n",
      "Epoch 85: Training Loss = 0.0440, validation_loss= 0.0510\n",
      "Epoch 86: Training Loss = 0.0439, validation_loss= 0.0508\n",
      "Epoch 87: Training Loss = 0.0438, validation_loss= 0.0507\n",
      "Epoch 88: Training Loss = 0.0436, validation_loss= 0.0505\n",
      "Epoch 89: Training Loss = 0.0435, validation_loss= 0.0503\n",
      "Epoch 90: Training Loss = 0.0434, validation_loss= 0.0502\n",
      "Epoch 91: Training Loss = 0.0433, validation_loss= 0.0500\n",
      "Epoch 92: Training Loss = 0.0432, validation_loss= 0.0499\n",
      "Epoch 93: Training Loss = 0.0431, validation_loss= 0.0497\n",
      "Epoch 94: Training Loss = 0.0430, validation_loss= 0.0496\n",
      "Epoch 95: Training Loss = 0.0429, validation_loss= 0.0494\n",
      "Epoch 96: Training Loss = 0.0428, validation_loss= 0.0493\n",
      "Epoch 97: Training Loss = 0.0427, validation_loss= 0.0491\n",
      "Epoch 98: Training Loss = 0.0426, validation_loss= 0.0490\n",
      "Epoch 99: Training Loss = 0.0425, validation_loss= 0.0488\n",
      "Epoch 100: Training Loss = 0.0424, validation_loss= 0.0487\n",
      "Epoch 101: Training Loss = 0.0423, validation_loss= 0.0485\n",
      "Epoch 102: Training Loss = 0.0422, validation_loss= 0.0484\n",
      "Epoch 103: Training Loss = 0.0421, validation_loss= 0.0483\n",
      "Epoch 104: Training Loss = 0.0420, validation_loss= 0.0481\n",
      "Epoch 105: Training Loss = 0.0419, validation_loss= 0.0480\n",
      "Epoch 106: Training Loss = 0.0418, validation_loss= 0.0478\n",
      "Epoch 107: Training Loss = 0.0417, validation_loss= 0.0477\n",
      "Epoch 108: Training Loss = 0.0416, validation_loss= 0.0476\n",
      "Epoch 109: Training Loss = 0.0415, validation_loss= 0.0474\n",
      "Epoch 110: Training Loss = 0.0414, validation_loss= 0.0473\n",
      "Epoch 111: Training Loss = 0.0413, validation_loss= 0.0472\n",
      "Epoch 112: Training Loss = 0.0412, validation_loss= 0.0470\n",
      "Epoch 113: Training Loss = 0.0411, validation_loss= 0.0469\n",
      "Epoch 114: Training Loss = 0.0410, validation_loss= 0.0467\n",
      "Epoch 115: Training Loss = 0.0409, validation_loss= 0.0466\n",
      "Epoch 116: Training Loss = 0.0408, validation_loss= 0.0465\n",
      "Epoch 117: Training Loss = 0.0408, validation_loss= 0.0463\n",
      "Epoch 118: Training Loss = 0.0407, validation_loss= 0.0462\n",
      "Epoch 119: Training Loss = 0.0406, validation_loss= 0.0461\n",
      "Epoch 120: Training Loss = 0.0405, validation_loss= 0.0459\n",
      "Epoch 121: Training Loss = 0.0404, validation_loss= 0.0458\n",
      "Epoch 122: Training Loss = 0.0403, validation_loss= 0.0457\n",
      "Epoch 123: Training Loss = 0.0402, validation_loss= 0.0456\n",
      "Epoch 124: Training Loss = 0.0402, validation_loss= 0.0454\n",
      "Epoch 125: Training Loss = 0.0401, validation_loss= 0.0453\n",
      "Epoch 126: Training Loss = 0.0400, validation_loss= 0.0452\n",
      "Epoch 127: Training Loss = 0.0399, validation_loss= 0.0450\n",
      "Epoch 128: Training Loss = 0.0398, validation_loss= 0.0449\n",
      "Epoch 129: Training Loss = 0.0397, validation_loss= 0.0448\n",
      "Epoch 130: Training Loss = 0.0396, validation_loss= 0.0447\n",
      "Epoch 131: Training Loss = 0.0396, validation_loss= 0.0445\n",
      "Epoch 132: Training Loss = 0.0395, validation_loss= 0.0444\n",
      "Epoch 133: Training Loss = 0.0394, validation_loss= 0.0443\n",
      "Epoch 134: Training Loss = 0.0393, validation_loss= 0.0442\n",
      "Epoch 135: Training Loss = 0.0392, validation_loss= 0.0440\n",
      "Epoch 136: Training Loss = 0.0392, validation_loss= 0.0439\n",
      "Epoch 137: Training Loss = 0.0391, validation_loss= 0.0438\n",
      "Epoch 138: Training Loss = 0.0390, validation_loss= 0.0437\n",
      "Epoch 139: Training Loss = 0.0389, validation_loss= 0.0435\n",
      "Epoch 140: Training Loss = 0.0388, validation_loss= 0.0434\n",
      "Epoch 141: Training Loss = 0.0388, validation_loss= 0.0433\n",
      "Epoch 142: Training Loss = 0.0387, validation_loss= 0.0432\n",
      "Epoch 143: Training Loss = 0.0386, validation_loss= 0.0431\n",
      "Epoch 144: Training Loss = 0.0385, validation_loss= 0.0429\n",
      "Epoch 145: Training Loss = 0.0384, validation_loss= 0.0428\n",
      "Epoch 146: Training Loss = 0.0384, validation_loss= 0.0427\n",
      "Epoch 147: Training Loss = 0.0383, validation_loss= 0.0426\n",
      "Epoch 148: Training Loss = 0.0382, validation_loss= 0.0425\n",
      "Epoch 149: Training Loss = 0.0381, validation_loss= 0.0423\n",
      "Epoch 150: Training Loss = 0.0381, validation_loss= 0.0422\n",
      "Epoch 151: Training Loss = 0.0380, validation_loss= 0.0421\n",
      "Epoch 152: Training Loss = 0.0379, validation_loss= 0.0420\n",
      "Epoch 153: Training Loss = 0.0378, validation_loss= 0.0419\n",
      "Epoch 154: Training Loss = 0.0378, validation_loss= 0.0418\n",
      "Epoch 155: Training Loss = 0.0377, validation_loss= 0.0417\n",
      "Epoch 156: Training Loss = 0.0376, validation_loss= 0.0415\n",
      "Epoch 157: Training Loss = 0.0375, validation_loss= 0.0414\n",
      "Epoch 158: Training Loss = 0.0375, validation_loss= 0.0413\n",
      "Epoch 159: Training Loss = 0.0374, validation_loss= 0.0412\n",
      "Epoch 160: Training Loss = 0.0373, validation_loss= 0.0411\n",
      "Epoch 161: Training Loss = 0.0372, validation_loss= 0.0410\n",
      "Epoch 162: Training Loss = 0.0372, validation_loss= 0.0409\n",
      "Epoch 163: Training Loss = 0.0371, validation_loss= 0.0407\n",
      "Epoch 164: Training Loss = 0.0370, validation_loss= 0.0406\n",
      "Epoch 165: Training Loss = 0.0369, validation_loss= 0.0405\n",
      "Epoch 166: Training Loss = 0.0369, validation_loss= 0.0404\n",
      "Epoch 167: Training Loss = 0.0368, validation_loss= 0.0403\n",
      "Epoch 168: Training Loss = 0.0367, validation_loss= 0.0402\n",
      "Epoch 169: Training Loss = 0.0366, validation_loss= 0.0401\n",
      "Epoch 170: Training Loss = 0.0366, validation_loss= 0.0400\n",
      "Epoch 171: Training Loss = 0.0365, validation_loss= 0.0399\n",
      "Epoch 172: Training Loss = 0.0364, validation_loss= 0.0398\n",
      "Epoch 173: Training Loss = 0.0364, validation_loss= 0.0397\n",
      "Epoch 174: Training Loss = 0.0363, validation_loss= 0.0395\n",
      "Epoch 175: Training Loss = 0.0362, validation_loss= 0.0394\n",
      "Epoch 176: Training Loss = 0.0362, validation_loss= 0.0393\n",
      "Epoch 177: Training Loss = 0.0361, validation_loss= 0.0392\n",
      "Epoch 178: Training Loss = 0.0360, validation_loss= 0.0391\n",
      "Epoch 179: Training Loss = 0.0359, validation_loss= 0.0390\n",
      "Epoch 180: Training Loss = 0.0359, validation_loss= 0.0389\n",
      "Epoch 181: Training Loss = 0.0358, validation_loss= 0.0388\n",
      "Epoch 182: Training Loss = 0.0357, validation_loss= 0.0387\n",
      "Epoch 183: Training Loss = 0.0357, validation_loss= 0.0386\n",
      "Epoch 184: Training Loss = 0.0356, validation_loss= 0.0385\n",
      "Epoch 185: Training Loss = 0.0355, validation_loss= 0.0384\n",
      "Epoch 186: Training Loss = 0.0355, validation_loss= 0.0383\n",
      "Epoch 187: Training Loss = 0.0354, validation_loss= 0.0382\n",
      "Epoch 188: Training Loss = 0.0353, validation_loss= 0.0381\n",
      "Epoch 189: Training Loss = 0.0353, validation_loss= 0.0380\n",
      "Epoch 190: Training Loss = 0.0352, validation_loss= 0.0379\n",
      "Epoch 191: Training Loss = 0.0351, validation_loss= 0.0378\n",
      "Epoch 192: Training Loss = 0.0351, validation_loss= 0.0377\n",
      "Epoch 193: Training Loss = 0.0350, validation_loss= 0.0376\n",
      "Epoch 194: Training Loss = 0.0349, validation_loss= 0.0375\n",
      "Epoch 195: Training Loss = 0.0349, validation_loss= 0.0374\n",
      "Epoch 196: Training Loss = 0.0348, validation_loss= 0.0373\n",
      "Epoch 197: Training Loss = 0.0347, validation_loss= 0.0372\n",
      "Epoch 198: Training Loss = 0.0347, validation_loss= 0.0371\n",
      "Epoch 199: Training Loss = 0.0346, validation_loss= 0.0370\n",
      "Epoch 200: Training Loss = 0.0345, validation_loss= 0.0369\n",
      "Epoch 201: Training Loss = 0.0345, validation_loss= 0.0368\n",
      "Epoch 202: Training Loss = 0.0344, validation_loss= 0.0367\n",
      "Epoch 203: Training Loss = 0.0344, validation_loss= 0.0366\n",
      "Epoch 204: Training Loss = 0.0343, validation_loss= 0.0365\n",
      "Epoch 205: Training Loss = 0.0342, validation_loss= 0.0364\n",
      "Epoch 206: Training Loss = 0.0342, validation_loss= 0.0363\n",
      "Epoch 207: Training Loss = 0.0341, validation_loss= 0.0362\n",
      "Epoch 208: Training Loss = 0.0340, validation_loss= 0.0361\n",
      "Epoch 209: Training Loss = 0.0340, validation_loss= 0.0360\n",
      "Epoch 210: Training Loss = 0.0339, validation_loss= 0.0359\n",
      "Epoch 211: Training Loss = 0.0338, validation_loss= 0.0359\n",
      "Epoch 212: Training Loss = 0.0338, validation_loss= 0.0358\n",
      "Epoch 213: Training Loss = 0.0337, validation_loss= 0.0357\n",
      "Epoch 214: Training Loss = 0.0337, validation_loss= 0.0356\n",
      "Epoch 215: Training Loss = 0.0336, validation_loss= 0.0355\n",
      "Epoch 216: Training Loss = 0.0335, validation_loss= 0.0354\n",
      "Epoch 217: Training Loss = 0.0335, validation_loss= 0.0353\n",
      "Epoch 218: Training Loss = 0.0334, validation_loss= 0.0352\n",
      "Epoch 219: Training Loss = 0.0334, validation_loss= 0.0351\n",
      "Epoch 220: Training Loss = 0.0333, validation_loss= 0.0350\n",
      "Epoch 221: Training Loss = 0.0332, validation_loss= 0.0349\n",
      "Epoch 222: Training Loss = 0.0332, validation_loss= 0.0349\n",
      "Epoch 223: Training Loss = 0.0331, validation_loss= 0.0348\n",
      "Epoch 224: Training Loss = 0.0331, validation_loss= 0.0347\n",
      "Epoch 225: Training Loss = 0.0330, validation_loss= 0.0346\n",
      "Epoch 226: Training Loss = 0.0329, validation_loss= 0.0345\n",
      "Epoch 227: Training Loss = 0.0329, validation_loss= 0.0344\n",
      "Epoch 228: Training Loss = 0.0328, validation_loss= 0.0343\n",
      "Epoch 229: Training Loss = 0.0328, validation_loss= 0.0342\n",
      "Epoch 230: Training Loss = 0.0327, validation_loss= 0.0341\n",
      "Epoch 231: Training Loss = 0.0326, validation_loss= 0.0341\n",
      "Epoch 232: Training Loss = 0.0326, validation_loss= 0.0340\n",
      "Epoch 233: Training Loss = 0.0325, validation_loss= 0.0339\n",
      "Epoch 234: Training Loss = 0.0325, validation_loss= 0.0338\n",
      "Epoch 235: Training Loss = 0.0324, validation_loss= 0.0337\n",
      "Epoch 236: Training Loss = 0.0324, validation_loss= 0.0336\n",
      "Epoch 237: Training Loss = 0.0323, validation_loss= 0.0335\n",
      "Epoch 238: Training Loss = 0.0322, validation_loss= 0.0335\n",
      "Epoch 239: Training Loss = 0.0322, validation_loss= 0.0334\n",
      "Epoch 240: Training Loss = 0.0321, validation_loss= 0.0333\n",
      "Epoch 241: Training Loss = 0.0321, validation_loss= 0.0332\n",
      "Epoch 242: Training Loss = 0.0320, validation_loss= 0.0331\n",
      "Epoch 243: Training Loss = 0.0320, validation_loss= 0.0330\n",
      "Epoch 244: Training Loss = 0.0319, validation_loss= 0.0330\n",
      "Epoch 245: Training Loss = 0.0319, validation_loss= 0.0329\n",
      "Epoch 246: Training Loss = 0.0318, validation_loss= 0.0328\n",
      "Epoch 247: Training Loss = 0.0317, validation_loss= 0.0327\n",
      "Epoch 248: Training Loss = 0.0317, validation_loss= 0.0326\n",
      "Epoch 249: Training Loss = 0.0316, validation_loss= 0.0326\n",
      "Epoch 250: Training Loss = 0.0316, validation_loss= 0.0325\n",
      "Epoch 251: Training Loss = 0.0315, validation_loss= 0.0324\n",
      "Epoch 252: Training Loss = 0.0315, validation_loss= 0.0323\n",
      "Epoch 253: Training Loss = 0.0314, validation_loss= 0.0322\n",
      "Epoch 254: Training Loss = 0.0314, validation_loss= 0.0322\n",
      "Epoch 255: Training Loss = 0.0313, validation_loss= 0.0321\n",
      "Epoch 256: Training Loss = 0.0313, validation_loss= 0.0320\n",
      "Epoch 257: Training Loss = 0.0312, validation_loss= 0.0319\n",
      "Epoch 258: Training Loss = 0.0311, validation_loss= 0.0318\n",
      "Epoch 259: Training Loss = 0.0311, validation_loss= 0.0318\n",
      "Epoch 260: Training Loss = 0.0310, validation_loss= 0.0317\n",
      "Epoch 261: Training Loss = 0.0310, validation_loss= 0.0316\n",
      "Epoch 262: Training Loss = 0.0309, validation_loss= 0.0315\n",
      "Epoch 263: Training Loss = 0.0309, validation_loss= 0.0314\n",
      "Epoch 264: Training Loss = 0.0308, validation_loss= 0.0314\n",
      "Epoch 265: Training Loss = 0.0308, validation_loss= 0.0313\n",
      "Epoch 266: Training Loss = 0.0307, validation_loss= 0.0312\n",
      "Epoch 267: Training Loss = 0.0307, validation_loss= 0.0311\n",
      "Epoch 268: Training Loss = 0.0306, validation_loss= 0.0311\n",
      "Epoch 269: Training Loss = 0.0306, validation_loss= 0.0310\n",
      "Epoch 270: Training Loss = 0.0305, validation_loss= 0.0309\n",
      "Epoch 271: Training Loss = 0.0305, validation_loss= 0.0308\n",
      "Epoch 272: Training Loss = 0.0304, validation_loss= 0.0308\n",
      "Epoch 273: Training Loss = 0.0304, validation_loss= 0.0307\n",
      "Epoch 274: Training Loss = 0.0303, validation_loss= 0.0306\n",
      "Epoch 275: Training Loss = 0.0303, validation_loss= 0.0305\n",
      "Epoch 276: Training Loss = 0.0302, validation_loss= 0.0305\n",
      "Epoch 277: Training Loss = 0.0302, validation_loss= 0.0304\n",
      "Epoch 278: Training Loss = 0.0301, validation_loss= 0.0303\n"
     ]
    },
    {
     "name": "stdout",
     "output_type": "stream",
     "text": [
      "Epoch 279: Training Loss = 0.0301, validation_loss= 0.0302\n",
      "Epoch 280: Training Loss = 0.0300, validation_loss= 0.0302\n",
      "Epoch 281: Training Loss = 0.0300, validation_loss= 0.0301\n",
      "Epoch 282: Training Loss = 0.0299, validation_loss= 0.0300\n",
      "Epoch 283: Training Loss = 0.0299, validation_loss= 0.0300\n",
      "Epoch 284: Training Loss = 0.0298, validation_loss= 0.0299\n",
      "Epoch 285: Training Loss = 0.0298, validation_loss= 0.0298\n",
      "Epoch 286: Training Loss = 0.0297, validation_loss= 0.0297\n",
      "Epoch 287: Training Loss = 0.0297, validation_loss= 0.0297\n",
      "Epoch 288: Training Loss = 0.0296, validation_loss= 0.0296\n",
      "Epoch 289: Training Loss = 0.0296, validation_loss= 0.0295\n",
      "Epoch 290: Training Loss = 0.0295, validation_loss= 0.0295\n",
      "Epoch 291: Training Loss = 0.0295, validation_loss= 0.0294\n",
      "Epoch 292: Training Loss = 0.0294, validation_loss= 0.0293\n",
      "Epoch 293: Training Loss = 0.0294, validation_loss= 0.0293\n",
      "Epoch 294: Training Loss = 0.0293, validation_loss= 0.0292\n",
      "Epoch 295: Training Loss = 0.0293, validation_loss= 0.0291\n",
      "Epoch 296: Training Loss = 0.0292, validation_loss= 0.0290\n",
      "Epoch 297: Training Loss = 0.0292, validation_loss= 0.0290\n",
      "Epoch 298: Training Loss = 0.0291, validation_loss= 0.0289\n",
      "Epoch 299: Training Loss = 0.0291, validation_loss= 0.0288\n",
      "Epoch 300: Training Loss = 0.0290, validation_loss= 0.0288\n",
      "Epoch 301: Training Loss = 0.0290, validation_loss= 0.0287\n",
      "Epoch 302: Training Loss = 0.0290, validation_loss= 0.0286\n",
      "Epoch 303: Training Loss = 0.0289, validation_loss= 0.0286\n",
      "Epoch 304: Training Loss = 0.0289, validation_loss= 0.0285\n",
      "Epoch 305: Training Loss = 0.0288, validation_loss= 0.0284\n",
      "Epoch 306: Training Loss = 0.0288, validation_loss= 0.0284\n",
      "Epoch 307: Training Loss = 0.0287, validation_loss= 0.0283\n",
      "Epoch 308: Training Loss = 0.0287, validation_loss= 0.0282\n",
      "Epoch 309: Training Loss = 0.0286, validation_loss= 0.0282\n",
      "Epoch 310: Training Loss = 0.0286, validation_loss= 0.0281\n",
      "Epoch 311: Training Loss = 0.0285, validation_loss= 0.0280\n",
      "Epoch 312: Training Loss = 0.0285, validation_loss= 0.0280\n",
      "Epoch 313: Training Loss = 0.0285, validation_loss= 0.0279\n",
      "Epoch 314: Training Loss = 0.0284, validation_loss= 0.0278\n",
      "Epoch 315: Training Loss = 0.0284, validation_loss= 0.0278\n",
      "Epoch 316: Training Loss = 0.0283, validation_loss= 0.0277\n",
      "Epoch 317: Training Loss = 0.0283, validation_loss= 0.0277\n",
      "Epoch 318: Training Loss = 0.0282, validation_loss= 0.0276\n",
      "Epoch 319: Training Loss = 0.0282, validation_loss= 0.0275\n",
      "Epoch 320: Training Loss = 0.0281, validation_loss= 0.0275\n",
      "Epoch 321: Training Loss = 0.0281, validation_loss= 0.0274\n",
      "Epoch 322: Training Loss = 0.0281, validation_loss= 0.0273\n",
      "Epoch 323: Training Loss = 0.0280, validation_loss= 0.0273\n",
      "Epoch 324: Training Loss = 0.0280, validation_loss= 0.0272\n",
      "Epoch 325: Training Loss = 0.0279, validation_loss= 0.0272\n",
      "Epoch 326: Training Loss = 0.0279, validation_loss= 0.0271\n",
      "Epoch 327: Training Loss = 0.0278, validation_loss= 0.0270\n",
      "Epoch 328: Training Loss = 0.0278, validation_loss= 0.0270\n",
      "Epoch 329: Training Loss = 0.0277, validation_loss= 0.0269\n",
      "Epoch 330: Training Loss = 0.0277, validation_loss= 0.0268\n",
      "Epoch 331: Training Loss = 0.0277, validation_loss= 0.0268\n",
      "Epoch 332: Training Loss = 0.0276, validation_loss= 0.0267\n",
      "Epoch 333: Training Loss = 0.0276, validation_loss= 0.0267\n",
      "Epoch 334: Training Loss = 0.0275, validation_loss= 0.0266\n",
      "Epoch 335: Training Loss = 0.0275, validation_loss= 0.0265\n",
      "Epoch 336: Training Loss = 0.0275, validation_loss= 0.0265\n",
      "Epoch 337: Training Loss = 0.0274, validation_loss= 0.0264\n",
      "Epoch 338: Training Loss = 0.0274, validation_loss= 0.0264\n",
      "Epoch 339: Training Loss = 0.0273, validation_loss= 0.0263\n",
      "Epoch 340: Training Loss = 0.0273, validation_loss= 0.0262\n",
      "Epoch 341: Training Loss = 0.0272, validation_loss= 0.0262\n",
      "Epoch 342: Training Loss = 0.0272, validation_loss= 0.0261\n",
      "Epoch 343: Training Loss = 0.0272, validation_loss= 0.0261\n",
      "Epoch 344: Training Loss = 0.0271, validation_loss= 0.0260\n",
      "Epoch 345: Training Loss = 0.0271, validation_loss= 0.0260\n",
      "Epoch 346: Training Loss = 0.0270, validation_loss= 0.0259\n",
      "Epoch 347: Training Loss = 0.0270, validation_loss= 0.0258\n",
      "Epoch 348: Training Loss = 0.0270, validation_loss= 0.0258\n",
      "Epoch 349: Training Loss = 0.0269, validation_loss= 0.0257\n",
      "Epoch 350: Training Loss = 0.0269, validation_loss= 0.0257\n",
      "Epoch 351: Training Loss = 0.0268, validation_loss= 0.0256\n",
      "Epoch 352: Training Loss = 0.0268, validation_loss= 0.0256\n",
      "Epoch 353: Training Loss = 0.0268, validation_loss= 0.0255\n",
      "Epoch 354: Training Loss = 0.0267, validation_loss= 0.0254\n",
      "Epoch 355: Training Loss = 0.0267, validation_loss= 0.0254\n",
      "Epoch 356: Training Loss = 0.0266, validation_loss= 0.0253\n",
      "Epoch 357: Training Loss = 0.0266, validation_loss= 0.0253\n",
      "Epoch 358: Training Loss = 0.0266, validation_loss= 0.0252\n",
      "Epoch 359: Training Loss = 0.0265, validation_loss= 0.0252\n",
      "Epoch 360: Training Loss = 0.0265, validation_loss= 0.0251\n",
      "Epoch 361: Training Loss = 0.0264, validation_loss= 0.0250\n",
      "Epoch 362: Training Loss = 0.0264, validation_loss= 0.0250\n",
      "Epoch 363: Training Loss = 0.0264, validation_loss= 0.0249\n",
      "Epoch 364: Training Loss = 0.0263, validation_loss= 0.0249\n",
      "Epoch 365: Training Loss = 0.0263, validation_loss= 0.0248\n",
      "Epoch 366: Training Loss = 0.0262, validation_loss= 0.0248\n",
      "Epoch 367: Training Loss = 0.0262, validation_loss= 0.0247\n",
      "Epoch 368: Training Loss = 0.0262, validation_loss= 0.0247\n",
      "Epoch 369: Training Loss = 0.0261, validation_loss= 0.0246\n",
      "Epoch 370: Training Loss = 0.0261, validation_loss= 0.0246\n",
      "Epoch 371: Training Loss = 0.0261, validation_loss= 0.0245\n",
      "Epoch 372: Training Loss = 0.0260, validation_loss= 0.0245\n",
      "Epoch 373: Training Loss = 0.0260, validation_loss= 0.0244\n",
      "Epoch 374: Training Loss = 0.0259, validation_loss= 0.0243\n",
      "Epoch 375: Training Loss = 0.0259, validation_loss= 0.0243\n",
      "Epoch 376: Training Loss = 0.0259, validation_loss= 0.0242\n",
      "Epoch 377: Training Loss = 0.0258, validation_loss= 0.0242\n",
      "Epoch 378: Training Loss = 0.0258, validation_loss= 0.0241\n",
      "Epoch 379: Training Loss = 0.0258, validation_loss= 0.0241\n",
      "Epoch 380: Training Loss = 0.0257, validation_loss= 0.0240\n",
      "Epoch 381: Training Loss = 0.0257, validation_loss= 0.0240\n",
      "Epoch 382: Training Loss = 0.0256, validation_loss= 0.0239\n",
      "Epoch 383: Training Loss = 0.0256, validation_loss= 0.0239\n",
      "Epoch 384: Training Loss = 0.0256, validation_loss= 0.0238\n",
      "Epoch 385: Training Loss = 0.0255, validation_loss= 0.0238\n",
      "Epoch 386: Training Loss = 0.0255, validation_loss= 0.0237\n",
      "Epoch 387: Training Loss = 0.0255, validation_loss= 0.0237\n",
      "Epoch 388: Training Loss = 0.0254, validation_loss= 0.0236\n",
      "Epoch 389: Training Loss = 0.0254, validation_loss= 0.0236\n",
      "Epoch 390: Training Loss = 0.0254, validation_loss= 0.0235\n",
      "Epoch 391: Training Loss = 0.0253, validation_loss= 0.0235\n",
      "Epoch 392: Training Loss = 0.0253, validation_loss= 0.0234\n",
      "Epoch 393: Training Loss = 0.0252, validation_loss= 0.0234\n",
      "Epoch 394: Training Loss = 0.0252, validation_loss= 0.0233\n",
      "Epoch 395: Training Loss = 0.0252, validation_loss= 0.0233\n",
      "Epoch 396: Training Loss = 0.0251, validation_loss= 0.0232\n",
      "Epoch 397: Training Loss = 0.0251, validation_loss= 0.0232\n",
      "Epoch 398: Training Loss = 0.0251, validation_loss= 0.0231\n",
      "Epoch 399: Training Loss = 0.0250, validation_loss= 0.0231\n",
      "Epoch 400: Training Loss = 0.0250, validation_loss= 0.0230\n",
      "Epoch 401: Training Loss = 0.0250, validation_loss= 0.0230\n",
      "Epoch 402: Training Loss = 0.0249, validation_loss= 0.0229\n",
      "Epoch 403: Training Loss = 0.0249, validation_loss= 0.0229\n",
      "Epoch 404: Training Loss = 0.0249, validation_loss= 0.0228\n",
      "Epoch 405: Training Loss = 0.0248, validation_loss= 0.0228\n",
      "Epoch 406: Training Loss = 0.0248, validation_loss= 0.0227\n",
      "Epoch 407: Training Loss = 0.0248, validation_loss= 0.0227\n",
      "Epoch 408: Training Loss = 0.0247, validation_loss= 0.0227\n",
      "Epoch 409: Training Loss = 0.0247, validation_loss= 0.0226\n",
      "Epoch 410: Training Loss = 0.0247, validation_loss= 0.0226\n",
      "Epoch 411: Training Loss = 0.0246, validation_loss= 0.0225\n",
      "Epoch 412: Training Loss = 0.0246, validation_loss= 0.0225\n",
      "Epoch 413: Training Loss = 0.0246, validation_loss= 0.0224\n",
      "Epoch 414: Training Loss = 0.0245, validation_loss= 0.0224\n",
      "Epoch 415: Training Loss = 0.0245, validation_loss= 0.0223\n",
      "Epoch 416: Training Loss = 0.0245, validation_loss= 0.0223\n",
      "Epoch 417: Training Loss = 0.0244, validation_loss= 0.0222\n",
      "Epoch 418: Training Loss = 0.0244, validation_loss= 0.0222\n",
      "Epoch 419: Training Loss = 0.0244, validation_loss= 0.0221\n",
      "Epoch 420: Training Loss = 0.0243, validation_loss= 0.0221\n",
      "Epoch 421: Training Loss = 0.0243, validation_loss= 0.0220\n",
      "Epoch 422: Training Loss = 0.0243, validation_loss= 0.0220\n",
      "Epoch 423: Training Loss = 0.0242, validation_loss= 0.0220\n",
      "Epoch 424: Training Loss = 0.0242, validation_loss= 0.0219\n",
      "Epoch 425: Training Loss = 0.0242, validation_loss= 0.0219\n",
      "Epoch 426: Training Loss = 0.0241, validation_loss= 0.0218\n",
      "Epoch 427: Training Loss = 0.0241, validation_loss= 0.0218\n",
      "Epoch 428: Training Loss = 0.0241, validation_loss= 0.0217\n",
      "Epoch 429: Training Loss = 0.0240, validation_loss= 0.0217\n",
      "Epoch 430: Training Loss = 0.0240, validation_loss= 0.0216\n",
      "Epoch 431: Training Loss = 0.0240, validation_loss= 0.0216\n",
      "Epoch 432: Training Loss = 0.0239, validation_loss= 0.0216\n"
     ]
    },
    {
     "name": "stdout",
     "output_type": "stream",
     "text": [
      "Epoch 433: Training Loss = 0.0239, validation_loss= 0.0215\n",
      "Epoch 434: Training Loss = 0.0239, validation_loss= 0.0215\n",
      "Epoch 435: Training Loss = 0.0238, validation_loss= 0.0214\n",
      "Epoch 436: Training Loss = 0.0238, validation_loss= 0.0214\n",
      "Epoch 437: Training Loss = 0.0238, validation_loss= 0.0213\n",
      "Epoch 438: Training Loss = 0.0237, validation_loss= 0.0213\n",
      "Epoch 439: Training Loss = 0.0237, validation_loss= 0.0213\n",
      "Epoch 440: Training Loss = 0.0237, validation_loss= 0.0212\n",
      "Epoch 441: Training Loss = 0.0237, validation_loss= 0.0212\n",
      "Epoch 442: Training Loss = 0.0236, validation_loss= 0.0211\n",
      "Epoch 443: Training Loss = 0.0236, validation_loss= 0.0211\n",
      "Epoch 444: Training Loss = 0.0236, validation_loss= 0.0210\n",
      "Epoch 445: Training Loss = 0.0235, validation_loss= 0.0210\n",
      "Epoch 446: Training Loss = 0.0235, validation_loss= 0.0210\n",
      "Epoch 447: Training Loss = 0.0235, validation_loss= 0.0209\n",
      "Epoch 448: Training Loss = 0.0234, validation_loss= 0.0209\n",
      "Epoch 449: Training Loss = 0.0234, validation_loss= 0.0208\n",
      "Epoch 450: Training Loss = 0.0234, validation_loss= 0.0208\n",
      "Epoch 451: Training Loss = 0.0233, validation_loss= 0.0208\n",
      "Epoch 452: Training Loss = 0.0233, validation_loss= 0.0207\n",
      "Epoch 453: Training Loss = 0.0233, validation_loss= 0.0207\n",
      "Epoch 454: Training Loss = 0.0233, validation_loss= 0.0206\n",
      "Epoch 455: Training Loss = 0.0232, validation_loss= 0.0206\n",
      "Epoch 456: Training Loss = 0.0232, validation_loss= 0.0205\n",
      "Epoch 457: Training Loss = 0.0232, validation_loss= 0.0205\n",
      "Epoch 458: Training Loss = 0.0231, validation_loss= 0.0205\n",
      "Epoch 459: Training Loss = 0.0231, validation_loss= 0.0204\n",
      "Epoch 460: Training Loss = 0.0231, validation_loss= 0.0204\n",
      "Epoch 461: Training Loss = 0.0230, validation_loss= 0.0203\n",
      "Epoch 462: Training Loss = 0.0230, validation_loss= 0.0203\n",
      "Epoch 463: Training Loss = 0.0230, validation_loss= 0.0203\n",
      "Epoch 464: Training Loss = 0.0230, validation_loss= 0.0202\n",
      "Epoch 465: Training Loss = 0.0229, validation_loss= 0.0202\n",
      "Epoch 466: Training Loss = 0.0229, validation_loss= 0.0201\n",
      "Epoch 467: Training Loss = 0.0229, validation_loss= 0.0201\n",
      "Epoch 468: Training Loss = 0.0228, validation_loss= 0.0201\n",
      "Epoch 469: Training Loss = 0.0228, validation_loss= 0.0200\n",
      "Epoch 470: Training Loss = 0.0228, validation_loss= 0.0200\n",
      "Epoch 471: Training Loss = 0.0228, validation_loss= 0.0199\n",
      "Epoch 472: Training Loss = 0.0227, validation_loss= 0.0199\n",
      "Epoch 473: Training Loss = 0.0227, validation_loss= 0.0199\n",
      "Epoch 474: Training Loss = 0.0227, validation_loss= 0.0198\n",
      "Epoch 475: Training Loss = 0.0226, validation_loss= 0.0198\n",
      "Epoch 476: Training Loss = 0.0226, validation_loss= 0.0198\n",
      "Epoch 477: Training Loss = 0.0226, validation_loss= 0.0197\n",
      "Epoch 478: Training Loss = 0.0226, validation_loss= 0.0197\n",
      "Epoch 479: Training Loss = 0.0225, validation_loss= 0.0196\n",
      "Epoch 480: Training Loss = 0.0225, validation_loss= 0.0196\n",
      "Epoch 481: Training Loss = 0.0225, validation_loss= 0.0196\n",
      "Epoch 482: Training Loss = 0.0224, validation_loss= 0.0195\n",
      "Epoch 483: Training Loss = 0.0224, validation_loss= 0.0195\n",
      "Epoch 484: Training Loss = 0.0224, validation_loss= 0.0195\n",
      "Epoch 485: Training Loss = 0.0224, validation_loss= 0.0194\n",
      "Epoch 486: Training Loss = 0.0223, validation_loss= 0.0194\n",
      "Epoch 487: Training Loss = 0.0223, validation_loss= 0.0193\n",
      "Epoch 488: Training Loss = 0.0223, validation_loss= 0.0193\n",
      "Epoch 489: Training Loss = 0.0223, validation_loss= 0.0193\n",
      "Epoch 490: Training Loss = 0.0222, validation_loss= 0.0192\n",
      "Epoch 491: Training Loss = 0.0222, validation_loss= 0.0192\n",
      "Epoch 492: Training Loss = 0.0222, validation_loss= 0.0192\n",
      "Epoch 493: Training Loss = 0.0221, validation_loss= 0.0191\n",
      "Epoch 494: Training Loss = 0.0221, validation_loss= 0.0191\n",
      "Epoch 495: Training Loss = 0.0221, validation_loss= 0.0191\n",
      "Epoch 496: Training Loss = 0.0221, validation_loss= 0.0190\n",
      "Epoch 497: Training Loss = 0.0220, validation_loss= 0.0190\n",
      "Epoch 498: Training Loss = 0.0220, validation_loss= 0.0189\n",
      "Epoch 499: Training Loss = 0.0220, validation_loss= 0.0189\n",
      "Epoch 500: Training Loss = 0.0220, validation_loss= 0.0189\n",
      "Epoch 501: Training Loss = 0.0219, validation_loss= 0.0188\n",
      "Epoch 502: Training Loss = 0.0219, validation_loss= 0.0188\n",
      "Epoch 503: Training Loss = 0.0219, validation_loss= 0.0188\n",
      "Epoch 504: Training Loss = 0.0219, validation_loss= 0.0187\n",
      "Epoch 505: Training Loss = 0.0218, validation_loss= 0.0187\n",
      "Epoch 506: Training Loss = 0.0218, validation_loss= 0.0187\n",
      "Epoch 507: Training Loss = 0.0218, validation_loss= 0.0186\n",
      "Epoch 508: Training Loss = 0.0217, validation_loss= 0.0186\n",
      "Epoch 509: Training Loss = 0.0217, validation_loss= 0.0186\n",
      "Epoch 510: Training Loss = 0.0217, validation_loss= 0.0185\n",
      "Epoch 511: Training Loss = 0.0217, validation_loss= 0.0185\n",
      "Epoch 512: Training Loss = 0.0216, validation_loss= 0.0185\n",
      "Epoch 513: Training Loss = 0.0216, validation_loss= 0.0184\n",
      "Epoch 514: Training Loss = 0.0216, validation_loss= 0.0184\n",
      "Epoch 515: Training Loss = 0.0216, validation_loss= 0.0183\n",
      "Epoch 516: Training Loss = 0.0215, validation_loss= 0.0183\n",
      "Epoch 517: Training Loss = 0.0215, validation_loss= 0.0183\n",
      "Epoch 518: Training Loss = 0.0215, validation_loss= 0.0182\n",
      "Epoch 519: Training Loss = 0.0215, validation_loss= 0.0182\n",
      "Epoch 520: Training Loss = 0.0214, validation_loss= 0.0182\n",
      "Epoch 521: Training Loss = 0.0214, validation_loss= 0.0181\n",
      "Epoch 522: Training Loss = 0.0214, validation_loss= 0.0181\n",
      "Epoch 523: Training Loss = 0.0214, validation_loss= 0.0181\n",
      "Epoch 524: Training Loss = 0.0213, validation_loss= 0.0180\n",
      "Epoch 525: Training Loss = 0.0213, validation_loss= 0.0180\n",
      "Epoch 526: Training Loss = 0.0213, validation_loss= 0.0180\n",
      "Epoch 527: Training Loss = 0.0213, validation_loss= 0.0179\n",
      "Epoch 528: Training Loss = 0.0212, validation_loss= 0.0179\n",
      "Epoch 529: Training Loss = 0.0212, validation_loss= 0.0179\n",
      "Epoch 530: Training Loss = 0.0212, validation_loss= 0.0178\n",
      "Epoch 531: Training Loss = 0.0212, validation_loss= 0.0178\n",
      "Epoch 532: Training Loss = 0.0211, validation_loss= 0.0178\n",
      "Epoch 533: Training Loss = 0.0211, validation_loss= 0.0178\n",
      "Epoch 534: Training Loss = 0.0211, validation_loss= 0.0177\n",
      "Epoch 535: Training Loss = 0.0211, validation_loss= 0.0177\n",
      "Epoch 536: Training Loss = 0.0211, validation_loss= 0.0177\n",
      "Epoch 537: Training Loss = 0.0210, validation_loss= 0.0176\n",
      "Epoch 538: Training Loss = 0.0210, validation_loss= 0.0176\n",
      "Epoch 539: Training Loss = 0.0210, validation_loss= 0.0176\n",
      "Epoch 540: Training Loss = 0.0210, validation_loss= 0.0175\n",
      "Epoch 541: Training Loss = 0.0209, validation_loss= 0.0175\n",
      "Epoch 542: Training Loss = 0.0209, validation_loss= 0.0175\n",
      "Epoch 543: Training Loss = 0.0209, validation_loss= 0.0174\n",
      "Epoch 544: Training Loss = 0.0209, validation_loss= 0.0174\n",
      "Epoch 545: Training Loss = 0.0208, validation_loss= 0.0174\n",
      "Epoch 546: Training Loss = 0.0208, validation_loss= 0.0173\n",
      "Epoch 547: Training Loss = 0.0208, validation_loss= 0.0173\n",
      "Epoch 548: Training Loss = 0.0208, validation_loss= 0.0173\n",
      "Epoch 549: Training Loss = 0.0207, validation_loss= 0.0172\n",
      "Epoch 550: Training Loss = 0.0207, validation_loss= 0.0172\n",
      "Epoch 551: Training Loss = 0.0207, validation_loss= 0.0172\n",
      "Epoch 552: Training Loss = 0.0207, validation_loss= 0.0172\n",
      "Epoch 553: Training Loss = 0.0207, validation_loss= 0.0171\n",
      "Epoch 554: Training Loss = 0.0206, validation_loss= 0.0171\n",
      "Epoch 555: Training Loss = 0.0206, validation_loss= 0.0171\n",
      "Epoch 556: Training Loss = 0.0206, validation_loss= 0.0170\n",
      "Epoch 557: Training Loss = 0.0206, validation_loss= 0.0170\n",
      "Epoch 558: Training Loss = 0.0205, validation_loss= 0.0170\n",
      "Epoch 559: Training Loss = 0.0205, validation_loss= 0.0169\n",
      "Epoch 560: Training Loss = 0.0205, validation_loss= 0.0169\n",
      "Epoch 561: Training Loss = 0.0205, validation_loss= 0.0169\n",
      "Epoch 562: Training Loss = 0.0204, validation_loss= 0.0169\n",
      "Epoch 563: Training Loss = 0.0204, validation_loss= 0.0168\n",
      "Epoch 564: Training Loss = 0.0204, validation_loss= 0.0168\n",
      "Epoch 565: Training Loss = 0.0204, validation_loss= 0.0168\n",
      "Epoch 566: Training Loss = 0.0204, validation_loss= 0.0167\n",
      "Epoch 567: Training Loss = 0.0203, validation_loss= 0.0167\n",
      "Epoch 568: Training Loss = 0.0203, validation_loss= 0.0167\n",
      "Epoch 569: Training Loss = 0.0203, validation_loss= 0.0166\n",
      "Epoch 570: Training Loss = 0.0203, validation_loss= 0.0166\n",
      "Epoch 571: Training Loss = 0.0202, validation_loss= 0.0166\n",
      "Epoch 572: Training Loss = 0.0202, validation_loss= 0.0166\n",
      "Epoch 573: Training Loss = 0.0202, validation_loss= 0.0165\n",
      "Epoch 574: Training Loss = 0.0202, validation_loss= 0.0165\n",
      "Epoch 575: Training Loss = 0.0202, validation_loss= 0.0165\n",
      "Epoch 576: Training Loss = 0.0201, validation_loss= 0.0164\n",
      "Epoch 577: Training Loss = 0.0201, validation_loss= 0.0164\n",
      "Epoch 578: Training Loss = 0.0201, validation_loss= 0.0164\n",
      "Epoch 579: Training Loss = 0.0201, validation_loss= 0.0164\n",
      "Epoch 580: Training Loss = 0.0201, validation_loss= 0.0163\n",
      "Epoch 581: Training Loss = 0.0200, validation_loss= 0.0163\n",
      "Epoch 582: Training Loss = 0.0200, validation_loss= 0.0163\n",
      "Epoch 583: Training Loss = 0.0200, validation_loss= 0.0162\n"
     ]
    },
    {
     "name": "stdout",
     "output_type": "stream",
     "text": [
      "Epoch 584: Training Loss = 0.0200, validation_loss= 0.0162\n",
      "Epoch 585: Training Loss = 0.0199, validation_loss= 0.0162\n",
      "Epoch 586: Training Loss = 0.0199, validation_loss= 0.0162\n",
      "Epoch 587: Training Loss = 0.0199, validation_loss= 0.0161\n",
      "Epoch 588: Training Loss = 0.0199, validation_loss= 0.0161\n",
      "Epoch 589: Training Loss = 0.0199, validation_loss= 0.0161\n",
      "Epoch 590: Training Loss = 0.0198, validation_loss= 0.0161\n",
      "Epoch 591: Training Loss = 0.0198, validation_loss= 0.0160\n",
      "Epoch 592: Training Loss = 0.0198, validation_loss= 0.0160\n",
      "Epoch 593: Training Loss = 0.0198, validation_loss= 0.0160\n",
      "Epoch 594: Training Loss = 0.0198, validation_loss= 0.0159\n",
      "Epoch 595: Training Loss = 0.0197, validation_loss= 0.0159\n",
      "Epoch 596: Training Loss = 0.0197, validation_loss= 0.0159\n",
      "Epoch 597: Training Loss = 0.0197, validation_loss= 0.0159\n",
      "Epoch 598: Training Loss = 0.0197, validation_loss= 0.0158\n",
      "Epoch 599: Training Loss = 0.0197, validation_loss= 0.0158\n",
      "Epoch 600: Training Loss = 0.0196, validation_loss= 0.0158\n",
      "Epoch 601: Training Loss = 0.0196, validation_loss= 0.0158\n",
      "Epoch 602: Training Loss = 0.0196, validation_loss= 0.0157\n",
      "Epoch 603: Training Loss = 0.0196, validation_loss= 0.0157\n",
      "Epoch 604: Training Loss = 0.0196, validation_loss= 0.0157\n",
      "Epoch 605: Training Loss = 0.0195, validation_loss= 0.0157\n",
      "Epoch 606: Training Loss = 0.0195, validation_loss= 0.0156\n",
      "Epoch 607: Training Loss = 0.0195, validation_loss= 0.0156\n",
      "Epoch 608: Training Loss = 0.0195, validation_loss= 0.0156\n",
      "Epoch 609: Training Loss = 0.0195, validation_loss= 0.0155\n",
      "Epoch 610: Training Loss = 0.0194, validation_loss= 0.0155\n",
      "Epoch 611: Training Loss = 0.0194, validation_loss= 0.0155\n",
      "Epoch 612: Training Loss = 0.0194, validation_loss= 0.0155\n",
      "Epoch 613: Training Loss = 0.0194, validation_loss= 0.0154\n",
      "Epoch 614: Training Loss = 0.0194, validation_loss= 0.0154\n",
      "Epoch 615: Training Loss = 0.0193, validation_loss= 0.0154\n",
      "Epoch 616: Training Loss = 0.0193, validation_loss= 0.0154\n",
      "Epoch 617: Training Loss = 0.0193, validation_loss= 0.0153\n",
      "Epoch 618: Training Loss = 0.0193, validation_loss= 0.0153\n",
      "Epoch 619: Training Loss = 0.0193, validation_loss= 0.0153\n",
      "Epoch 620: Training Loss = 0.0192, validation_loss= 0.0153\n",
      "Epoch 621: Training Loss = 0.0192, validation_loss= 0.0152\n",
      "Epoch 622: Training Loss = 0.0192, validation_loss= 0.0152\n",
      "Epoch 623: Training Loss = 0.0192, validation_loss= 0.0152\n",
      "Epoch 624: Training Loss = 0.0192, validation_loss= 0.0152\n",
      "Epoch 625: Training Loss = 0.0191, validation_loss= 0.0151\n",
      "Epoch 626: Training Loss = 0.0191, validation_loss= 0.0151\n",
      "Epoch 627: Training Loss = 0.0191, validation_loss= 0.0151\n",
      "Epoch 628: Training Loss = 0.0191, validation_loss= 0.0151\n",
      "Epoch 629: Training Loss = 0.0191, validation_loss= 0.0150\n",
      "Epoch 630: Training Loss = 0.0190, validation_loss= 0.0150\n",
      "Epoch 631: Training Loss = 0.0190, validation_loss= 0.0150\n",
      "Epoch 632: Training Loss = 0.0190, validation_loss= 0.0150\n",
      "Epoch 633: Training Loss = 0.0190, validation_loss= 0.0149\n",
      "Epoch 634: Training Loss = 0.0190, validation_loss= 0.0149\n",
      "Epoch 635: Training Loss = 0.0190, validation_loss= 0.0149\n",
      "Epoch 636: Training Loss = 0.0189, validation_loss= 0.0149\n",
      "Epoch 637: Training Loss = 0.0189, validation_loss= 0.0148\n",
      "Epoch 638: Training Loss = 0.0189, validation_loss= 0.0148\n",
      "Epoch 639: Training Loss = 0.0189, validation_loss= 0.0148\n",
      "Epoch 640: Training Loss = 0.0189, validation_loss= 0.0148\n",
      "Epoch 641: Training Loss = 0.0188, validation_loss= 0.0148\n",
      "Epoch 642: Training Loss = 0.0188, validation_loss= 0.0147\n",
      "Epoch 643: Training Loss = 0.0188, validation_loss= 0.0147\n",
      "Epoch 644: Training Loss = 0.0188, validation_loss= 0.0147\n",
      "Epoch 645: Training Loss = 0.0188, validation_loss= 0.0147\n",
      "Epoch 646: Training Loss = 0.0187, validation_loss= 0.0146\n",
      "Epoch 647: Training Loss = 0.0187, validation_loss= 0.0146\n",
      "Epoch 648: Training Loss = 0.0187, validation_loss= 0.0146\n",
      "Epoch 649: Training Loss = 0.0187, validation_loss= 0.0146\n",
      "Epoch 650: Training Loss = 0.0187, validation_loss= 0.0145\n",
      "Epoch 651: Training Loss = 0.0187, validation_loss= 0.0145\n",
      "Epoch 652: Training Loss = 0.0186, validation_loss= 0.0145\n",
      "Epoch 653: Training Loss = 0.0186, validation_loss= 0.0145\n",
      "Epoch 654: Training Loss = 0.0186, validation_loss= 0.0144\n",
      "Epoch 655: Training Loss = 0.0186, validation_loss= 0.0144\n",
      "Epoch 656: Training Loss = 0.0186, validation_loss= 0.0144\n",
      "Epoch 657: Training Loss = 0.0186, validation_loss= 0.0144\n",
      "Epoch 658: Training Loss = 0.0185, validation_loss= 0.0144\n",
      "Epoch 659: Training Loss = 0.0185, validation_loss= 0.0143\n",
      "Epoch 660: Training Loss = 0.0185, validation_loss= 0.0143\n",
      "Epoch 661: Training Loss = 0.0185, validation_loss= 0.0143\n",
      "Epoch 662: Training Loss = 0.0185, validation_loss= 0.0143\n",
      "Epoch 663: Training Loss = 0.0184, validation_loss= 0.0142\n",
      "Epoch 664: Training Loss = 0.0184, validation_loss= 0.0142\n",
      "Epoch 665: Training Loss = 0.0184, validation_loss= 0.0142\n",
      "Epoch 666: Training Loss = 0.0184, validation_loss= 0.0142\n",
      "Epoch 667: Training Loss = 0.0184, validation_loss= 0.0142\n",
      "Epoch 668: Training Loss = 0.0184, validation_loss= 0.0141\n",
      "Epoch 669: Training Loss = 0.0183, validation_loss= 0.0141\n",
      "Epoch 670: Training Loss = 0.0183, validation_loss= 0.0141\n",
      "Epoch 671: Training Loss = 0.0183, validation_loss= 0.0141\n",
      "Epoch 672: Training Loss = 0.0183, validation_loss= 0.0140\n",
      "Epoch 673: Training Loss = 0.0183, validation_loss= 0.0140\n",
      "Epoch 674: Training Loss = 0.0183, validation_loss= 0.0140\n",
      "Epoch 675: Training Loss = 0.0182, validation_loss= 0.0140\n",
      "Epoch 676: Training Loss = 0.0182, validation_loss= 0.0140\n",
      "Epoch 677: Training Loss = 0.0182, validation_loss= 0.0139\n",
      "Epoch 678: Training Loss = 0.0182, validation_loss= 0.0139\n",
      "Epoch 679: Training Loss = 0.0182, validation_loss= 0.0139\n",
      "Epoch 680: Training Loss = 0.0182, validation_loss= 0.0139\n",
      "Epoch 681: Training Loss = 0.0181, validation_loss= 0.0139\n",
      "Epoch 682: Training Loss = 0.0181, validation_loss= 0.0138\n",
      "Epoch 683: Training Loss = 0.0181, validation_loss= 0.0138\n",
      "Epoch 684: Training Loss = 0.0181, validation_loss= 0.0138\n",
      "Epoch 685: Training Loss = 0.0181, validation_loss= 0.0138\n",
      "Epoch 686: Training Loss = 0.0181, validation_loss= 0.0137\n",
      "Epoch 687: Training Loss = 0.0180, validation_loss= 0.0137\n",
      "Epoch 688: Training Loss = 0.0180, validation_loss= 0.0137\n",
      "Epoch 689: Training Loss = 0.0180, validation_loss= 0.0137\n",
      "Epoch 690: Training Loss = 0.0180, validation_loss= 0.0137\n",
      "Epoch 691: Training Loss = 0.0180, validation_loss= 0.0136\n",
      "Epoch 692: Training Loss = 0.0180, validation_loss= 0.0136\n",
      "Epoch 693: Training Loss = 0.0179, validation_loss= 0.0136\n",
      "Epoch 694: Training Loss = 0.0179, validation_loss= 0.0136\n",
      "Epoch 695: Training Loss = 0.0179, validation_loss= 0.0136\n",
      "Epoch 696: Training Loss = 0.0179, validation_loss= 0.0135\n",
      "Epoch 697: Training Loss = 0.0179, validation_loss= 0.0135\n",
      "Epoch 698: Training Loss = 0.0179, validation_loss= 0.0135\n",
      "Epoch 699: Training Loss = 0.0178, validation_loss= 0.0135\n",
      "Epoch 700: Training Loss = 0.0178, validation_loss= 0.0135\n",
      "Epoch 701: Training Loss = 0.0178, validation_loss= 0.0134\n",
      "Epoch 702: Training Loss = 0.0178, validation_loss= 0.0134\n",
      "Epoch 703: Training Loss = 0.0178, validation_loss= 0.0134\n",
      "Epoch 704: Training Loss = 0.0178, validation_loss= 0.0134\n",
      "Epoch 705: Training Loss = 0.0178, validation_loss= 0.0134\n",
      "Epoch 706: Training Loss = 0.0177, validation_loss= 0.0133\n",
      "Epoch 707: Training Loss = 0.0177, validation_loss= 0.0133\n",
      "Epoch 708: Training Loss = 0.0177, validation_loss= 0.0133\n",
      "Epoch 709: Training Loss = 0.0177, validation_loss= 0.0133\n",
      "Epoch 710: Training Loss = 0.0177, validation_loss= 0.0133\n",
      "Epoch 711: Training Loss = 0.0177, validation_loss= 0.0132\n",
      "Epoch 712: Training Loss = 0.0176, validation_loss= 0.0132\n",
      "Epoch 713: Training Loss = 0.0176, validation_loss= 0.0132\n",
      "Epoch 714: Training Loss = 0.0176, validation_loss= 0.0132\n",
      "Epoch 715: Training Loss = 0.0176, validation_loss= 0.0132\n",
      "Epoch 716: Training Loss = 0.0176, validation_loss= 0.0131\n",
      "Epoch 717: Training Loss = 0.0176, validation_loss= 0.0131\n",
      "Epoch 718: Training Loss = 0.0176, validation_loss= 0.0131\n",
      "Epoch 719: Training Loss = 0.0175, validation_loss= 0.0131\n",
      "Epoch 720: Training Loss = 0.0175, validation_loss= 0.0131\n",
      "Epoch 721: Training Loss = 0.0175, validation_loss= 0.0130\n",
      "Epoch 722: Training Loss = 0.0175, validation_loss= 0.0130\n",
      "Epoch 723: Training Loss = 0.0175, validation_loss= 0.0130\n",
      "Epoch 724: Training Loss = 0.0175, validation_loss= 0.0130\n",
      "Epoch 725: Training Loss = 0.0174, validation_loss= 0.0130\n",
      "Epoch 726: Training Loss = 0.0174, validation_loss= 0.0129\n",
      "Epoch 727: Training Loss = 0.0174, validation_loss= 0.0129\n",
      "Epoch 728: Training Loss = 0.0174, validation_loss= 0.0129\n",
      "Epoch 729: Training Loss = 0.0174, validation_loss= 0.0129\n",
      "Epoch 730: Training Loss = 0.0174, validation_loss= 0.0129\n",
      "Epoch 731: Training Loss = 0.0174, validation_loss= 0.0129\n",
      "Epoch 732: Training Loss = 0.0173, validation_loss= 0.0128\n",
      "Epoch 733: Training Loss = 0.0173, validation_loss= 0.0128\n",
      "Epoch 734: Training Loss = 0.0173, validation_loss= 0.0128\n",
      "Epoch 735: Training Loss = 0.0173, validation_loss= 0.0128\n",
      "Epoch 736: Training Loss = 0.0173, validation_loss= 0.0128\n",
      "Epoch 737: Training Loss = 0.0173, validation_loss= 0.0127\n",
      "Epoch 738: Training Loss = 0.0173, validation_loss= 0.0127\n",
      "Epoch 739: Training Loss = 0.0172, validation_loss= 0.0127\n",
      "Epoch 740: Training Loss = 0.0172, validation_loss= 0.0127\n",
      "Epoch 741: Training Loss = 0.0172, validation_loss= 0.0127\n",
      "Epoch 742: Training Loss = 0.0172, validation_loss= 0.0126\n",
      "Epoch 743: Training Loss = 0.0172, validation_loss= 0.0126\n",
      "Epoch 744: Training Loss = 0.0172, validation_loss= 0.0126\n",
      "Epoch 745: Training Loss = 0.0172, validation_loss= 0.0126\n",
      "Epoch 746: Training Loss = 0.0171, validation_loss= 0.0126\n",
      "Epoch 747: Training Loss = 0.0171, validation_loss= 0.0126\n",
      "Epoch 748: Training Loss = 0.0171, validation_loss= 0.0125\n",
      "Epoch 749: Training Loss = 0.0171, validation_loss= 0.0125\n",
      "Epoch 750: Training Loss = 0.0171, validation_loss= 0.0125\n",
      "Epoch 751: Training Loss = 0.0171, validation_loss= 0.0125\n",
      "Epoch 752: Training Loss = 0.0171, validation_loss= 0.0125\n",
      "Epoch 753: Training Loss = 0.0170, validation_loss= 0.0125\n",
      "Epoch 754: Training Loss = 0.0170, validation_loss= 0.0124\n",
      "Epoch 755: Training Loss = 0.0170, validation_loss= 0.0124\n",
      "Epoch 756: Training Loss = 0.0170, validation_loss= 0.0124\n",
      "Epoch 757: Training Loss = 0.0170, validation_loss= 0.0124\n",
      "Epoch 758: Training Loss = 0.0170, validation_loss= 0.0124\n",
      "Epoch 759: Training Loss = 0.0170, validation_loss= 0.0123\n",
      "Epoch 760: Training Loss = 0.0169, validation_loss= 0.0123\n",
      "Epoch 761: Training Loss = 0.0169, validation_loss= 0.0123\n",
      "Epoch 762: Training Loss = 0.0169, validation_loss= 0.0123\n",
      "Epoch 763: Training Loss = 0.0169, validation_loss= 0.0123\n",
      "Epoch 764: Training Loss = 0.0169, validation_loss= 0.0123\n",
      "Epoch 765: Training Loss = 0.0169, validation_loss= 0.0122\n",
      "Epoch 766: Training Loss = 0.0169, validation_loss= 0.0122\n",
      "Epoch 767: Training Loss = 0.0169, validation_loss= 0.0122\n",
      "Epoch 768: Training Loss = 0.0168, validation_loss= 0.0122\n",
      "Epoch 769: Training Loss = 0.0168, validation_loss= 0.0122\n",
      "Epoch 770: Training Loss = 0.0168, validation_loss= 0.0122\n",
      "Epoch 771: Training Loss = 0.0168, validation_loss= 0.0121\n",
      "Epoch 772: Training Loss = 0.0168, validation_loss= 0.0121\n",
      "Epoch 773: Training Loss = 0.0168, validation_loss= 0.0121\n",
      "Epoch 774: Training Loss = 0.0168, validation_loss= 0.0121\n",
      "Epoch 775: Training Loss = 0.0167, validation_loss= 0.0121\n",
      "Epoch 776: Training Loss = 0.0167, validation_loss= 0.0121\n",
      "Epoch 777: Training Loss = 0.0167, validation_loss= 0.0120\n",
      "Epoch 778: Training Loss = 0.0167, validation_loss= 0.0120\n",
      "Epoch 779: Training Loss = 0.0167, validation_loss= 0.0120\n",
      "Epoch 780: Training Loss = 0.0167, validation_loss= 0.0120\n",
      "Epoch 781: Training Loss = 0.0167, validation_loss= 0.0120\n",
      "Epoch 782: Training Loss = 0.0167, validation_loss= 0.0120\n",
      "Epoch 783: Training Loss = 0.0166, validation_loss= 0.0119\n",
      "Epoch 784: Training Loss = 0.0166, validation_loss= 0.0119\n",
      "Epoch 785: Training Loss = 0.0166, validation_loss= 0.0119\n",
      "Epoch 786: Training Loss = 0.0166, validation_loss= 0.0119\n",
      "Epoch 787: Training Loss = 0.0166, validation_loss= 0.0119\n",
      "Epoch 788: Training Loss = 0.0166, validation_loss= 0.0119\n",
      "Epoch 789: Training Loss = 0.0166, validation_loss= 0.0118\n",
      "Epoch 790: Training Loss = 0.0166, validation_loss= 0.0118\n",
      "Epoch 791: Training Loss = 0.0165, validation_loss= 0.0118\n",
      "Epoch 792: Training Loss = 0.0165, validation_loss= 0.0118\n",
      "Epoch 793: Training Loss = 0.0165, validation_loss= 0.0118\n",
      "Epoch 794: Training Loss = 0.0165, validation_loss= 0.0118\n",
      "Epoch 795: Training Loss = 0.0165, validation_loss= 0.0117\n",
      "Epoch 796: Training Loss = 0.0165, validation_loss= 0.0117\n",
      "Epoch 797: Training Loss = 0.0165, validation_loss= 0.0117\n",
      "Epoch 798: Training Loss = 0.0165, validation_loss= 0.0117\n",
      "Epoch 799: Training Loss = 0.0164, validation_loss= 0.0117\n",
      "Epoch 800: Training Loss = 0.0164, validation_loss= 0.0117\n",
      "Epoch 801: Training Loss = 0.0164, validation_loss= 0.0117\n",
      "Epoch 802: Training Loss = 0.0164, validation_loss= 0.0116\n",
      "Epoch 803: Training Loss = 0.0164, validation_loss= 0.0116\n",
      "Epoch 804: Training Loss = 0.0164, validation_loss= 0.0116\n",
      "Epoch 805: Training Loss = 0.0164, validation_loss= 0.0116\n",
      "Epoch 806: Training Loss = 0.0164, validation_loss= 0.0116\n",
      "Epoch 807: Training Loss = 0.0163, validation_loss= 0.0116\n",
      "Epoch 808: Training Loss = 0.0163, validation_loss= 0.0115\n",
      "Epoch 809: Training Loss = 0.0163, validation_loss= 0.0115\n",
      "Epoch 810: Training Loss = 0.0163, validation_loss= 0.0115\n",
      "Epoch 811: Training Loss = 0.0163, validation_loss= 0.0115\n",
      "Epoch 812: Training Loss = 0.0163, validation_loss= 0.0115\n",
      "Epoch 813: Training Loss = 0.0163, validation_loss= 0.0115\n",
      "Epoch 814: Training Loss = 0.0163, validation_loss= 0.0115\n",
      "Epoch 815: Training Loss = 0.0162, validation_loss= 0.0114\n",
      "Epoch 816: Training Loss = 0.0162, validation_loss= 0.0114\n",
      "Epoch 817: Training Loss = 0.0162, validation_loss= 0.0114\n",
      "Epoch 818: Training Loss = 0.0162, validation_loss= 0.0114\n",
      "Epoch 819: Training Loss = 0.0162, validation_loss= 0.0114\n",
      "Epoch 820: Training Loss = 0.0162, validation_loss= 0.0114\n",
      "Epoch 821: Training Loss = 0.0162, validation_loss= 0.0113\n",
      "Epoch 822: Training Loss = 0.0162, validation_loss= 0.0113\n",
      "Epoch 823: Training Loss = 0.0161, validation_loss= 0.0113\n",
      "Epoch 824: Training Loss = 0.0161, validation_loss= 0.0113\n",
      "Epoch 825: Training Loss = 0.0161, validation_loss= 0.0113\n",
      "Epoch 826: Training Loss = 0.0161, validation_loss= 0.0113\n",
      "Epoch 827: Training Loss = 0.0161, validation_loss= 0.0113\n",
      "Epoch 828: Training Loss = 0.0161, validation_loss= 0.0112\n",
      "Epoch 829: Training Loss = 0.0161, validation_loss= 0.0112\n",
      "Epoch 830: Training Loss = 0.0161, validation_loss= 0.0112\n",
      "Epoch 831: Training Loss = 0.0161, validation_loss= 0.0112\n",
      "Epoch 832: Training Loss = 0.0160, validation_loss= 0.0112\n",
      "Epoch 833: Training Loss = 0.0160, validation_loss= 0.0112\n",
      "Epoch 834: Training Loss = 0.0160, validation_loss= 0.0112\n",
      "Epoch 835: Training Loss = 0.0160, validation_loss= 0.0111\n",
      "Epoch 836: Training Loss = 0.0160, validation_loss= 0.0111\n",
      "Epoch 837: Training Loss = 0.0160, validation_loss= 0.0111\n",
      "Epoch 838: Training Loss = 0.0160, validation_loss= 0.0111\n",
      "Epoch 839: Training Loss = 0.0160, validation_loss= 0.0111\n",
      "Epoch 840: Training Loss = 0.0160, validation_loss= 0.0111\n",
      "Epoch 841: Training Loss = 0.0159, validation_loss= 0.0111\n",
      "Epoch 842: Training Loss = 0.0159, validation_loss= 0.0110\n",
      "Epoch 843: Training Loss = 0.0159, validation_loss= 0.0110\n",
      "Epoch 844: Training Loss = 0.0159, validation_loss= 0.0110\n",
      "Epoch 845: Training Loss = 0.0159, validation_loss= 0.0110\n",
      "Epoch 846: Training Loss = 0.0159, validation_loss= 0.0110\n",
      "Epoch 847: Training Loss = 0.0159, validation_loss= 0.0110\n",
      "Epoch 848: Training Loss = 0.0159, validation_loss= 0.0110\n",
      "Epoch 849: Training Loss = 0.0158, validation_loss= 0.0109\n",
      "Epoch 850: Training Loss = 0.0158, validation_loss= 0.0109\n",
      "Epoch 851: Training Loss = 0.0158, validation_loss= 0.0109\n",
      "Epoch 852: Training Loss = 0.0158, validation_loss= 0.0109\n",
      "Epoch 853: Training Loss = 0.0158, validation_loss= 0.0109\n",
      "Epoch 854: Training Loss = 0.0158, validation_loss= 0.0109\n",
      "Epoch 855: Training Loss = 0.0158, validation_loss= 0.0109\n",
      "Epoch 856: Training Loss = 0.0158, validation_loss= 0.0108\n",
      "Epoch 857: Training Loss = 0.0158, validation_loss= 0.0108\n",
      "Epoch 858: Training Loss = 0.0158, validation_loss= 0.0108\n",
      "Epoch 859: Training Loss = 0.0157, validation_loss= 0.0108\n",
      "Epoch 860: Training Loss = 0.0157, validation_loss= 0.0108\n",
      "Epoch 861: Training Loss = 0.0157, validation_loss= 0.0108\n"
     ]
    },
    {
     "name": "stdout",
     "output_type": "stream",
     "text": [
      "Epoch 862: Training Loss = 0.0157, validation_loss= 0.0108\n",
      "Epoch 863: Training Loss = 0.0157, validation_loss= 0.0108\n",
      "Epoch 864: Training Loss = 0.0157, validation_loss= 0.0107\n",
      "Epoch 865: Training Loss = 0.0157, validation_loss= 0.0107\n",
      "Epoch 866: Training Loss = 0.0157, validation_loss= 0.0107\n",
      "Epoch 867: Training Loss = 0.0157, validation_loss= 0.0107\n",
      "Epoch 868: Training Loss = 0.0156, validation_loss= 0.0107\n",
      "Epoch 869: Training Loss = 0.0156, validation_loss= 0.0107\n",
      "Epoch 870: Training Loss = 0.0156, validation_loss= 0.0107\n",
      "Epoch 871: Training Loss = 0.0156, validation_loss= 0.0106\n",
      "Epoch 872: Training Loss = 0.0156, validation_loss= 0.0106\n",
      "Epoch 873: Training Loss = 0.0156, validation_loss= 0.0106\n",
      "Epoch 874: Training Loss = 0.0156, validation_loss= 0.0106\n",
      "Epoch 875: Training Loss = 0.0156, validation_loss= 0.0106\n",
      "Epoch 876: Training Loss = 0.0156, validation_loss= 0.0106\n",
      "Epoch 877: Training Loss = 0.0155, validation_loss= 0.0106\n",
      "Epoch 878: Training Loss = 0.0155, validation_loss= 0.0106\n",
      "Epoch 879: Training Loss = 0.0155, validation_loss= 0.0105\n",
      "Epoch 880: Training Loss = 0.0155, validation_loss= 0.0105\n",
      "Epoch 881: Training Loss = 0.0155, validation_loss= 0.0105\n",
      "Epoch 882: Training Loss = 0.0155, validation_loss= 0.0105\n",
      "Epoch 883: Training Loss = 0.0155, validation_loss= 0.0105\n",
      "Epoch 884: Training Loss = 0.0155, validation_loss= 0.0105\n",
      "Epoch 885: Training Loss = 0.0155, validation_loss= 0.0105\n",
      "Epoch 886: Training Loss = 0.0155, validation_loss= 0.0105\n",
      "Epoch 887: Training Loss = 0.0154, validation_loss= 0.0104\n",
      "Epoch 888: Training Loss = 0.0154, validation_loss= 0.0104\n",
      "Epoch 889: Training Loss = 0.0154, validation_loss= 0.0104\n",
      "Epoch 890: Training Loss = 0.0154, validation_loss= 0.0104\n",
      "Epoch 891: Training Loss = 0.0154, validation_loss= 0.0104\n",
      "Epoch 892: Training Loss = 0.0154, validation_loss= 0.0104\n",
      "Epoch 893: Training Loss = 0.0154, validation_loss= 0.0104\n",
      "Epoch 894: Training Loss = 0.0154, validation_loss= 0.0104\n",
      "Epoch 895: Training Loss = 0.0154, validation_loss= 0.0103\n",
      "Epoch 896: Training Loss = 0.0154, validation_loss= 0.0103\n",
      "Epoch 897: Training Loss = 0.0153, validation_loss= 0.0103\n",
      "Epoch 898: Training Loss = 0.0153, validation_loss= 0.0103\n",
      "Epoch 899: Training Loss = 0.0153, validation_loss= 0.0103\n",
      "Epoch 900: Training Loss = 0.0153, validation_loss= 0.0103\n",
      "Epoch 901: Training Loss = 0.0153, validation_loss= 0.0103\n",
      "Epoch 902: Training Loss = 0.0153, validation_loss= 0.0103\n",
      "Epoch 903: Training Loss = 0.0153, validation_loss= 0.0102\n",
      "Epoch 904: Training Loss = 0.0153, validation_loss= 0.0102\n",
      "Epoch 905: Training Loss = 0.0153, validation_loss= 0.0102\n",
      "Epoch 906: Training Loss = 0.0153, validation_loss= 0.0102\n",
      "Epoch 907: Training Loss = 0.0152, validation_loss= 0.0102\n",
      "Epoch 908: Training Loss = 0.0152, validation_loss= 0.0102\n",
      "Epoch 909: Training Loss = 0.0152, validation_loss= 0.0102\n",
      "Epoch 910: Training Loss = 0.0152, validation_loss= 0.0102\n",
      "Epoch 911: Training Loss = 0.0152, validation_loss= 0.0101\n",
      "Epoch 912: Training Loss = 0.0152, validation_loss= 0.0101\n",
      "Epoch 913: Training Loss = 0.0152, validation_loss= 0.0101\n",
      "Epoch 914: Training Loss = 0.0152, validation_loss= 0.0101\n",
      "Epoch 915: Training Loss = 0.0152, validation_loss= 0.0101\n",
      "Epoch 916: Training Loss = 0.0152, validation_loss= 0.0101\n",
      "Epoch 917: Training Loss = 0.0152, validation_loss= 0.0101\n",
      "Epoch 918: Training Loss = 0.0151, validation_loss= 0.0101\n",
      "Epoch 919: Training Loss = 0.0151, validation_loss= 0.0101\n",
      "Epoch 920: Training Loss = 0.0151, validation_loss= 0.0100\n",
      "Epoch 921: Training Loss = 0.0151, validation_loss= 0.0100\n",
      "Epoch 922: Training Loss = 0.0151, validation_loss= 0.0100\n",
      "Epoch 923: Training Loss = 0.0151, validation_loss= 0.0100\n",
      "Epoch 924: Training Loss = 0.0151, validation_loss= 0.0100\n",
      "Epoch 925: Training Loss = 0.0151, validation_loss= 0.0100\n",
      "Epoch 926: Training Loss = 0.0151, validation_loss= 0.0100\n",
      "Epoch 927: Training Loss = 0.0151, validation_loss= 0.0100\n",
      "Epoch 928: Training Loss = 0.0150, validation_loss= 0.0099\n",
      "Epoch 929: Training Loss = 0.0150, validation_loss= 0.0099\n",
      "Epoch 930: Training Loss = 0.0150, validation_loss= 0.0099\n",
      "Epoch 931: Training Loss = 0.0150, validation_loss= 0.0099\n",
      "Epoch 932: Training Loss = 0.0150, validation_loss= 0.0099\n",
      "Epoch 933: Training Loss = 0.0150, validation_loss= 0.0099\n",
      "Epoch 934: Training Loss = 0.0150, validation_loss= 0.0099\n",
      "Epoch 935: Training Loss = 0.0150, validation_loss= 0.0099\n",
      "Epoch 936: Training Loss = 0.0150, validation_loss= 0.0099\n",
      "Epoch 937: Training Loss = 0.0150, validation_loss= 0.0098\n",
      "Epoch 938: Training Loss = 0.0150, validation_loss= 0.0098\n",
      "Epoch 939: Training Loss = 0.0149, validation_loss= 0.0098\n",
      "Epoch 940: Training Loss = 0.0149, validation_loss= 0.0098\n",
      "Epoch 941: Training Loss = 0.0149, validation_loss= 0.0098\n",
      "Epoch 942: Training Loss = 0.0149, validation_loss= 0.0098\n",
      "Epoch 943: Training Loss = 0.0149, validation_loss= 0.0098\n",
      "Epoch 944: Training Loss = 0.0149, validation_loss= 0.0098\n",
      "Epoch 945: Training Loss = 0.0149, validation_loss= 0.0098\n",
      "Epoch 946: Training Loss = 0.0149, validation_loss= 0.0097\n",
      "Epoch 947: Training Loss = 0.0149, validation_loss= 0.0097\n",
      "Epoch 948: Training Loss = 0.0149, validation_loss= 0.0097\n",
      "Epoch 949: Training Loss = 0.0149, validation_loss= 0.0097\n",
      "Epoch 950: Training Loss = 0.0148, validation_loss= 0.0097\n",
      "Epoch 951: Training Loss = 0.0148, validation_loss= 0.0097\n",
      "Epoch 952: Training Loss = 0.0148, validation_loss= 0.0097\n",
      "Epoch 953: Training Loss = 0.0148, validation_loss= 0.0097\n",
      "Epoch 954: Training Loss = 0.0148, validation_loss= 0.0097\n",
      "Epoch 955: Training Loss = 0.0148, validation_loss= 0.0096\n",
      "Epoch 956: Training Loss = 0.0148, validation_loss= 0.0096\n",
      "Epoch 957: Training Loss = 0.0148, validation_loss= 0.0096\n",
      "Epoch 958: Training Loss = 0.0148, validation_loss= 0.0096\n",
      "Epoch 959: Training Loss = 0.0148, validation_loss= 0.0096\n",
      "Epoch 960: Training Loss = 0.0148, validation_loss= 0.0096\n",
      "Epoch 961: Training Loss = 0.0148, validation_loss= 0.0096\n",
      "Epoch 962: Training Loss = 0.0147, validation_loss= 0.0096\n",
      "Epoch 963: Training Loss = 0.0147, validation_loss= 0.0096\n",
      "Epoch 964: Training Loss = 0.0147, validation_loss= 0.0095\n",
      "Epoch 965: Training Loss = 0.0147, validation_loss= 0.0095\n",
      "Epoch 966: Training Loss = 0.0147, validation_loss= 0.0095\n",
      "Epoch 967: Training Loss = 0.0147, validation_loss= 0.0095\n",
      "Epoch 968: Training Loss = 0.0147, validation_loss= 0.0095\n",
      "Epoch 969: Training Loss = 0.0147, validation_loss= 0.0095\n",
      "Epoch 970: Training Loss = 0.0147, validation_loss= 0.0095\n",
      "Epoch 971: Training Loss = 0.0147, validation_loss= 0.0095\n",
      "Epoch 972: Training Loss = 0.0147, validation_loss= 0.0095\n",
      "Epoch 973: Training Loss = 0.0147, validation_loss= 0.0095\n",
      "Epoch 974: Training Loss = 0.0146, validation_loss= 0.0094\n",
      "Epoch 975: Training Loss = 0.0146, validation_loss= 0.0094\n",
      "Epoch 976: Training Loss = 0.0146, validation_loss= 0.0094\n",
      "Epoch 977: Training Loss = 0.0146, validation_loss= 0.0094\n",
      "Epoch 978: Training Loss = 0.0146, validation_loss= 0.0094\n",
      "Epoch 979: Training Loss = 0.0146, validation_loss= 0.0094\n",
      "Epoch 980: Training Loss = 0.0146, validation_loss= 0.0094\n",
      "Epoch 981: Training Loss = 0.0146, validation_loss= 0.0094\n",
      "Epoch 982: Training Loss = 0.0146, validation_loss= 0.0094\n",
      "Epoch 983: Training Loss = 0.0146, validation_loss= 0.0094\n",
      "Epoch 984: Training Loss = 0.0146, validation_loss= 0.0093\n",
      "Epoch 985: Training Loss = 0.0146, validation_loss= 0.0093\n",
      "Epoch 986: Training Loss = 0.0145, validation_loss= 0.0093\n",
      "Epoch 987: Training Loss = 0.0145, validation_loss= 0.0093\n",
      "Epoch 988: Training Loss = 0.0145, validation_loss= 0.0093\n",
      "Epoch 989: Training Loss = 0.0145, validation_loss= 0.0093\n",
      "Epoch 990: Training Loss = 0.0145, validation_loss= 0.0093\n",
      "Epoch 991: Training Loss = 0.0145, validation_loss= 0.0093\n",
      "Epoch 992: Training Loss = 0.0145, validation_loss= 0.0093\n",
      "Epoch 993: Training Loss = 0.0145, validation_loss= 0.0093\n",
      "Epoch 994: Training Loss = 0.0145, validation_loss= 0.0092\n",
      "Epoch 995: Training Loss = 0.0145, validation_loss= 0.0092\n",
      "Epoch 996: Training Loss = 0.0145, validation_loss= 0.0092\n",
      "Epoch 997: Training Loss = 0.0145, validation_loss= 0.0092\n",
      "Epoch 998: Training Loss = 0.0144, validation_loss= 0.0092\n",
      "Epoch 999: Training Loss = 0.0144, validation_loss= 0.0092\n",
      "Final Weights after 100 epochs:\n",
      "###############################################################################\n",
      "<tf.Variable 'Variable:0' shape=(12, 1) dtype=float32, numpy=\n",
      "array([[ 0.11452606],\n",
      "       [-0.48092648],\n",
      "       [ 0.11732163],\n",
      "       [ 0.00966653],\n",
      "       [-0.02273862],\n",
      "       [-0.03856815],\n",
      "       [-0.02624629],\n",
      "       [-0.04307499],\n",
      "       [-0.03957795],\n",
      "       [ 0.01381556],\n",
      "       [-0.06235076],\n",
      "       [-0.05240927]], dtype=float32)>\n",
      "Final Bias after 100 epochs:\n",
      "###############################################################################\n",
      "<tf.Variable 'Variable:0' shape=(1,) dtype=float32, numpy=array([0.5763092], dtype=float32)>\n"
     ]
    }
   ],
   "source": [
    "training_loss=[]\n",
    "val_loss=[]\n",
    "\n",
    "for epoch in range(1000):\n",
    "  loss,v_loss = train(X_train1, y_train1,X_val1,y_val1)\n",
    "  training_loss.append(loss)\n",
    "  val_loss.append(v_loss)\n",
    "  \n",
    "  print('Epoch %d: Training Loss = %.4f, validation_loss= %.4f' % (epoch, float(loss),float(v_loss)))\n",
    "\n",
    "\n",
    "print('Final Weights after 100 epochs:')\n",
    "print('###############################################################################')\n",
    "print(weights)\n",
    "\n",
    "print('Final Bias after 100 epochs:')\n",
    "print('###############################################################################')\n",
    "print(bias)"
   ]
  },
  {
   "cell_type": "markdown",
   "metadata": {
    "id": "xe_Nr4JnNMA7"
   },
   "source": [
    "As you can see the loss is continuously decreasing which means  model is learning\n",
    "\n",
    "Let's plot the training and validation loss"
   ]
  },
  {
   "cell_type": "code",
   "execution_count": 157,
   "metadata": {
    "colab": {
     "base_uri": "https://localhost:8080/",
     "height": 317
    },
    "id": "r_QigsCxq3iM",
    "outputId": "ff661221-320a-4e20-92b7-66d8080a6903"
   },
   "outputs": [
    {
     "data": {
      "image/png": "[encoded data removed]",
      "text/plain": [
       "<Figure size 432x288 with 1 Axes>"
      ]
     },
     "metadata": {
      "needs_background": "light"
     },
     "output_type": "display_data"
    },
    {
     "data": {
      "text/plain": [
       "<Figure size 432x288 with 0 Axes>"
      ]
     },
     "metadata": {},
     "output_type": "display_data"
    }
   ],
   "source": [
    "plt.plot(range(len(training_loss)), training_loss, 'b', label='Training loss') #plotting training loss\n",
    "plt.plot(range(len(val_loss)), val_loss, 'r', label='Validation loss') # plotting validation loss\n",
    "plt.title('Training and validation loss')\n",
    "plt.xlabel('Epochs ',fontsize=16)\n",
    "plt.ylabel('Loss',fontsize=16)\n",
    "plt.legend()\n",
    "plt.figure()\n",
    "plt.show()"
   ]
  },
  {
   "cell_type": "markdown",
   "metadata": {
    "id": "TXd-aCVmGZSA"
   },
   "source": [
    "Above image shows plot of the training and validation loss. As you can see, lr model is not overfitting since validation and training loss is reducing gradually."
   ]
  },
  {
   "cell_type": "markdown",
   "metadata": {
    "id": "bdgve0a7Jwwq"
   },
   "source": [
    "Let's us now test our model on the test data "
   ]
  },
  {
   "cell_type": "code",
   "execution_count": 158,
   "metadata": {
    "colab": {
     "base_uri": "https://localhost:8080/"
    },
    "id": "zyXnEJiyqNjv",
    "outputId": "62964702-9e9c-4dd8-dc3a-2376efe66342"
   },
   "outputs": [
    {
     "name": "stdout",
     "output_type": "stream",
     "text": [
      "tf.Tensor(0.010047126, shape=(), dtype=float32)\n"
     ]
    }
   ],
   "source": [
    "test_predictions = tf.matmul(X_test, weights) + bias\n",
    "print(compute_loss(y_test, test_predictions))"
   ]
  },
  {
   "cell_type": "markdown",
   "metadata": {
    "id": "jC87L0hqp7zF"
   },
   "source": [
    "Let's check the R square to understand  how well the model has captured the variance of the dependent variable."
   ]
  },
  {
   "cell_type": "markdown",
   "metadata": {
    "id": "DY9G6fp5isOh"
   },
   "source": [
    "Let's predict"
   ]
  },
  {
   "cell_type": "code",
   "execution_count": 159,
   "metadata": {
    "id": "unWesxIPGn94"
   },
   "outputs": [],
   "source": [
    "#Coverting tesnor to numpy array\n",
    "test_predictions=np.array(test_predictions)"
   ]
  },
  {
   "cell_type": "code",
   "execution_count": 160,
   "metadata": {},
   "outputs": [
    {
     "data": {
      "text/plain": [
       "array([[0.39729226],\n",
       "       [0.414788  ],\n",
       "       [0.6476813 ],\n",
       "       [0.49843904],\n",
       "       [0.3523069 ],\n",
       "       [0.4337015 ],\n",
       "       [0.37172356],\n",
       "       [0.47543478],\n",
       "       [0.53673005],\n",
       "       [0.55866617],\n",
       "       [0.73560774],\n",
       "       [0.7472813 ],\n",
       "       [0.52548987],\n",
       "       [0.73992765],\n",
       "       [0.42115244],\n",
       "       [0.67462635],\n",
       "       [0.4600403 ],\n",
       "       [0.54042184],\n",
       "       [0.24718314],\n",
       "       [0.55199873],\n",
       "       [0.583017  ],\n",
       "       [0.46737713],\n",
       "       [0.74140626],\n",
       "       [0.45354077],\n",
       "       [0.543909  ],\n",
       "       [0.58515036],\n",
       "       [0.20459077],\n",
       "       [0.319472  ],\n",
       "       [0.54617107],\n",
       "       [0.535267  ]], dtype=float32)"
      ]
     },
     "execution_count": 160,
     "metadata": {},
     "output_type": "execute_result"
    }
   ],
   "source": [
    "test_predictions"
   ]
  },
  {
   "cell_type": "code",
   "execution_count": 161,
   "metadata": {
    "colab": {
     "base_uri": "https://localhost:8080/"
    },
    "id": "fdhQzMfFMMes",
    "outputId": "c33bdffa-3224-425e-b729-0c704136ed59"
   },
   "outputs": [
    {
     "data": {
      "text/plain": [
       "array([[11557.092 ],\n",
       "       [11802.032 ],\n",
       "       [15062.538 ],\n",
       "       [12973.146 ],\n",
       "       [10927.296 ],\n",
       "       [12066.821 ],\n",
       "       [11199.13  ],\n",
       "       [12651.088 ],\n",
       "       [13509.222 ],\n",
       "       [13816.326 ],\n",
       "       [16293.509 ],\n",
       "       [16456.94  ],\n",
       "       [13351.857 ],\n",
       "       [16353.987 ],\n",
       "       [11891.134 ],\n",
       "       [15439.77  ],\n",
       "       [12435.564 ],\n",
       "       [13560.906 ],\n",
       "       [ 9455.563 ],\n",
       "       [13722.982 ],\n",
       "       [14157.238 ],\n",
       "       [12538.279 ],\n",
       "       [16374.6875],\n",
       "       [12344.571 ],\n",
       "       [13609.726 ],\n",
       "       [14187.105 ],\n",
       "       [ 8859.2705],\n",
       "       [10467.607 ],\n",
       "       [13641.3955],\n",
       "       [13488.738 ]], dtype=float32)"
      ]
     },
     "execution_count": 161,
     "metadata": {},
     "output_type": "execute_result"
    }
   ],
   "source": [
    "target_scaler.inverse_transform(test_predictions.reshape(-1, 1))"
   ]
  },
  {
   "cell_type": "markdown",
   "metadata": {
    "id": "M60iip1tUJNs"
   },
   "source": [
    " Let's check the R squared to understand  how well  model captured the variance of dependent variable."
   ]
  },
  {
   "cell_type": "code",
   "execution_count": 162,
   "metadata": {
    "colab": {
     "base_uri": "https://localhost:8080/"
    },
    "id": "bMq9_Wsg7dIL",
    "outputId": "949b8254-2696-49be-82eb-840cf92771ec"
   },
   "outputs": [
    {
     "data": {
      "text/plain": [
       "0.6829033384115725"
      ]
     },
     "execution_count": 162,
     "metadata": {},
     "output_type": "execute_result"
    }
   ],
   "source": [
    "sklearn.metrics.r2_score(target_scaler.inverse_transform(y_test.reshape(-1, 1)),target_scaler.inverse_transform(test_predictions.reshape(-1, 1)))"
   ]
  },
  {
   "cell_type": "markdown",
   "metadata": {
    "id": "7Y7eLsWUJ6lE"
   },
   "source": [
    "R2 is  0.682 and it seems to be fine. But you cannot use R-squared to determine whether the coefficient estimates and predictions are biased, which is why you must assess the residual plots.\n",
    "\n",
    "R-squared does not indicate if a regression model provides an adequate fit to your data. A good model can have a low R2 value. On the other hand, a biased model can have a high R2 value!"
   ]
  },
  {
   "cell_type": "markdown",
   "metadata": {
    "id": "Mj0xhsgKKPEG"
   },
   "source": [
    "Let's plot the residual plot "
   ]
  },
  {
   "cell_type": "code",
   "execution_count": 163,
   "metadata": {},
   "outputs": [
    {
     "data": {
      "text/plain": [
       "array([[0.46464285],\n",
       "       [0.5637857 ],\n",
       "       [0.57142854],\n",
       "       [0.52778566],\n",
       "       [0.28599998],\n",
       "       [0.5307143 ],\n",
       "       [0.28607145],\n",
       "       [0.21435717],\n",
       "       [0.6071428 ],\n",
       "       [0.5712143 ],\n",
       "       [0.78571427],\n",
       "       [0.7140714 ],\n",
       "       [0.4995    ],\n",
       "       [0.71457136],\n",
       "       [0.46464285],\n",
       "       [0.6424999 ],\n",
       "       [0.21457145],\n",
       "       [0.6428571 ],\n",
       "       [0.17857143],\n",
       "       [0.6365    ],\n",
       "       [0.54207146],\n",
       "       [0.49999997],\n",
       "       [0.64264286],\n",
       "       [0.2857143 ],\n",
       "       [0.59314287],\n",
       "       [0.7132143 ],\n",
       "       [0.07035714],\n",
       "       [0.3442857 ],\n",
       "       [0.48464283],\n",
       "       [0.50028574]], dtype=float32)"
      ]
     },
     "execution_count": 163,
     "metadata": {},
     "output_type": "execute_result"
    }
   ],
   "source": [
    "y_test"
   ]
  },
  {
   "cell_type": "code",
   "execution_count": 164,
   "metadata": {},
   "outputs": [
    {
     "data": {
      "text/plain": [
       "array([[0.39729226],\n",
       "       [0.414788  ],\n",
       "       [0.6476813 ],\n",
       "       [0.49843904],\n",
       "       [0.3523069 ],\n",
       "       [0.4337015 ],\n",
       "       [0.37172356],\n",
       "       [0.47543478],\n",
       "       [0.53673005],\n",
       "       [0.55866617],\n",
       "       [0.73560774],\n",
       "       [0.7472813 ],\n",
       "       [0.52548987],\n",
       "       [0.73992765],\n",
       "       [0.42115244],\n",
       "       [0.67462635],\n",
       "       [0.4600403 ],\n",
       "       [0.54042184],\n",
       "       [0.24718314],\n",
       "       [0.55199873],\n",
       "       [0.583017  ],\n",
       "       [0.46737713],\n",
       "       [0.74140626],\n",
       "       [0.45354077],\n",
       "       [0.543909  ],\n",
       "       [0.58515036],\n",
       "       [0.20459077],\n",
       "       [0.319472  ],\n",
       "       [0.54617107],\n",
       "       [0.535267  ]], dtype=float32)"
      ]
     },
     "execution_count": 164,
     "metadata": {},
     "output_type": "execute_result"
    }
   ],
   "source": [
    "test_predictions"
   ]
  },
  {
   "cell_type": "code",
   "execution_count": 165,
   "metadata": {
    "colab": {
     "base_uri": "https://localhost:8080/",
     "height": 391
    },
    "id": "3ThBnBIU-f0c",
    "outputId": "82f4f017-090f-4273-b729-99e93ade2a57"
   },
   "outputs": [
    {
     "data": {
      "text/plain": [
       "<AxesSubplot:>"
      ]
     },
     "execution_count": 165,
     "metadata": {},
     "output_type": "execute_result"
    },
    {
     "data": {
      "image/png": "[encoded data removed]",
      "text/plain": [
       "<Figure size 720x432 with 1 Axes>"
      ]
     },
     "metadata": {
      "needs_background": "light"
     },
     "output_type": "display_data"
    }
   ],
   "source": [
    "plt.figure(figsize=(10,6))\n",
    "sns.residplot(x=test_predictions, y=y_test)"
   ]
  },
  {
   "cell_type": "markdown",
   "metadata": {
    "id": "EqgAbNoPKSbj"
   },
   "source": [
    "Above residual plot shows the random pattern around the baseline of 0 residual which means linear regression is a good choice for this Data "
   ]
  },
  {
   "cell_type": "markdown",
   "metadata": {
    "id": "XvxfRLOhDPin"
   },
   "source": [
    "## Keras Implementation"
   ]
  },
  {
   "cell_type": "markdown",
   "metadata": {
    "id": "aT-msCH6EN8x"
   },
   "source": [
    "We’ll use a Sequential model with  multiple connected hidden layers, and an output layer that returns a single, continuous value."
   ]
  },
  {
   "cell_type": "markdown",
   "metadata": {
    "id": "RTM8KkHCfW8M"
   },
   "source": [
    "### Building the model using tf.keras: \n",
    "\n"
   ]
  },
  {
   "cell_type": "code",
   "execution_count": 166,
   "metadata": {
    "id": "jgmo2MM6DTTn"
   },
   "outputs": [],
   "source": [
    "def build_model_t():\n",
    "  #Creating a sequential model with multiple dense layers\n",
    "  model = tf.keras.Sequential([\n",
    "    tf.keras.layers.Dense(32, activation='relu', input_shape=X_train.shape),\n",
    "   \n",
    "    tf.keras.layers.Dense(64, activation='relu'),\n",
    "    tf.keras.layers.Dense(1)\n",
    "  ])\n",
    "\n",
    "  optimizer = tf.keras.optimizers.SGD(0.001)  # Defining the optimizer \n",
    "\n",
    "  model.compile(loss='mse',\n",
    "                optimizer=optimizer,\n",
    "                metrics=[ 'mse'])  # Defining the loss function, optimizer and metrices \n",
    "  return model"
   ]
  },
  {
   "cell_type": "markdown",
   "metadata": {
    "id": "ejY4fkwRfbwM"
   },
   "source": [
    "###Building the model using Keras standalone library"
   ]
  },
  {
   "cell_type": "code",
   "execution_count": 167,
   "metadata": {
    "id": "NyPLHXCqa_V9"
   },
   "outputs": [],
   "source": [
    "import keras # importing keras library\n",
    "from keras.models import Sequential  # importing the Sequential Model\n",
    "from keras.layers import Dense       # importing Dense layer\n",
    "def build_model():\n",
    "  ## Initializing the ANN\n",
    "    \n",
    "\n",
    "  model = Sequential() \n",
    "  # This adds the input layer (by specifying input dimension) AND the first hidden layer (units)\n",
    "  input_layer = Dense(32, input_shape=(X_train.shape[1],),activation='relu')\n",
    "  model.add(input_layer) # \n",
    "  #Adding the hidden layer\n",
    "  # Notice that we do not need to specify input dim. \n",
    "  hidden_layer = Dense(64, activation='relu'); \n",
    "  model.add(hidden_layer) \n",
    "  #Adding the output layer\n",
    "  # Notice that we do not need to specify input dim. \n",
    "  # we have an output of 1 node, which is the the desired dimensions of our output \n",
    "  # We use the sigmoid because we want probability outcomes\n",
    "  output_layer = Dense(1,activation='relu') \n",
    "  \n",
    "  model.add(output_layer)\n",
    "\n",
    "\n",
    "  optimizer = keras.optimizers.RMSprop(0.001)  # Defining the optimizer \n",
    "\n",
    "  model.compile(loss='mse',\n",
    "                optimizer=optimizer,\n",
    "                metrics=[ 'mse'])  # Defining the loss function, optimizer and metrices \n",
    "  return model"
   ]
  },
  {
   "cell_type": "markdown",
   "metadata": {
    "id": "6x4o9vmCDrhh"
   },
   "source": [
    "Build the model and view the summary"
   ]
  },
  {
   "cell_type": "code",
   "execution_count": 168,
   "metadata": {
    "colab": {
     "base_uri": "https://localhost:8080/"
    },
    "id": "8XFXVLmPDruT",
    "outputId": "8e50a799-ee56-48c6-9d90-1ef04233f206",
    "scrolled": true
   },
   "outputs": [
    {
     "name": "stdout",
     "output_type": "stream",
     "text": [
      "Model: \"sequential_4\"\n",
      "_________________________________________________________________\n",
      "Layer (type)                 Output Shape              Param #   \n",
      "=================================================================\n",
      "dense_10 (Dense)             (None, 32)                416       \n",
      "_________________________________________________________________\n",
      "dense_11 (Dense)             (None, 64)                2112      \n",
      "_________________________________________________________________\n",
      "dense_12 (Dense)             (None, 1)                 65        \n",
      "=================================================================\n",
      "Total params: 2,593\n",
      "Trainable params: 2,593\n",
      "Non-trainable params: 0\n",
      "_________________________________________________________________\n"
     ]
    }
   ],
   "source": [
    "#Getting the model summary. We are uisng standalone keras to build our model\n",
    "model = build_model()\n",
    "model.summary()"
   ]
  },
  {
   "cell_type": "markdown",
   "metadata": {
    "id": "mEHRg17HDver"
   },
   "source": [
    "Let’s now train the model for 100 epochs, and record the training and validation accuracy in ‘history’."
   ]
  },
  {
   "cell_type": "code",
   "execution_count": 169,
   "metadata": {
    "colab": {
     "base_uri": "https://localhost:8080/"
    },
    "id": "ZKT_6JzZDvrm",
    "outputId": "0f6bc504-0d35-4575-c418-5f0fcdee03c0"
   },
   "outputs": [
    {
     "name": "stdout",
     "output_type": "stream",
     "text": [
      "Train on 73 samples, validate on 19 samples\n",
      "Epoch 1/100\n",
      "73/73 [==============================] - 0s 964us/step - loss: 0.2517 - mse: 0.2517 - val_loss: 0.1028 - val_mse: 0.1028\n",
      "Epoch 2/100\n",
      "73/73 [==============================] - 0s 56us/step - loss: 0.1196 - mse: 0.1196 - val_loss: 0.0681 - val_mse: 0.0681\n",
      "Epoch 3/100\n",
      "73/73 [==============================] - 0s 82us/step - loss: 0.0809 - mse: 0.0809 - val_loss: 0.0617 - val_mse: 0.0617\n",
      "Epoch 4/100\n",
      "73/73 [==============================] - 0s 55us/step - loss: 0.0688 - mse: 0.0688 - val_loss: 0.0582 - val_mse: 0.0582\n",
      "Epoch 5/100\n",
      "73/73 [==============================] - 0s 55us/step - loss: 0.0590 - mse: 0.0590 - val_loss: 0.0563 - val_mse: 0.0563\n",
      "Epoch 6/100\n",
      "73/73 [==============================] - 0s 68us/step - loss: 0.0529 - mse: 0.0529 - val_loss: 0.0540 - val_mse: 0.0540\n",
      "Epoch 7/100\n",
      "73/73 [==============================] - 0s 82us/step - loss: 0.0463 - mse: 0.0463 - val_loss: 0.0511 - val_mse: 0.0511\n",
      "Epoch 8/100\n",
      "73/73 [==============================] - 0s 69us/step - loss: 0.0419 - mse: 0.0419 - val_loss: 0.0492 - val_mse: 0.0492\n",
      "Epoch 9/100\n",
      "73/73 [==============================] - 0s 55us/step - loss: 0.0384 - mse: 0.0384 - val_loss: 0.0425 - val_mse: 0.0425\n",
      "Epoch 10/100\n",
      "73/73 [==============================] - 0s 68us/step - loss: 0.0356 - mse: 0.0356 - val_loss: 0.0429 - val_mse: 0.0429\n",
      "Epoch 11/100\n",
      "73/73 [==============================] - 0s 69us/step - loss: 0.0312 - mse: 0.0312 - val_loss: 0.0438 - val_mse: 0.0438\n",
      "Epoch 12/100\n",
      "73/73 [==============================] - 0s 82us/step - loss: 0.0292 - mse: 0.0292 - val_loss: 0.0429 - val_mse: 0.0429\n",
      "Epoch 13/100\n",
      "73/73 [==============================] - 0s 54us/step - loss: 0.0266 - mse: 0.0266 - val_loss: 0.0355 - val_mse: 0.0355\n",
      "Epoch 14/100\n",
      "73/73 [==============================] - 0s 55us/step - loss: 0.0246 - mse: 0.0246 - val_loss: 0.0414 - val_mse: 0.0414\n",
      "Epoch 15/100\n",
      "73/73 [==============================] - 0s 68us/step - loss: 0.0234 - mse: 0.0234 - val_loss: 0.0328 - val_mse: 0.0328\n",
      "Epoch 16/100\n",
      "73/73 [==============================] - 0s 55us/step - loss: 0.0216 - mse: 0.0216 - val_loss: 0.0314 - val_mse: 0.0314\n",
      "Epoch 17/100\n",
      "73/73 [==============================] - 0s 82us/step - loss: 0.0205 - mse: 0.0205 - val_loss: 0.0326 - val_mse: 0.0326\n",
      "Epoch 18/100\n",
      "73/73 [==============================] - 0s 68us/step - loss: 0.0181 - mse: 0.0181 - val_loss: 0.0265 - val_mse: 0.0265\n",
      "Epoch 19/100\n",
      "73/73 [==============================] - 0s 68us/step - loss: 0.0169 - mse: 0.0169 - val_loss: 0.0243 - val_mse: 0.0243\n",
      "Epoch 20/100\n",
      "73/73 [==============================] - 0s 55us/step - loss: 0.0161 - mse: 0.0161 - val_loss: 0.0238 - val_mse: 0.0238\n",
      "Epoch 21/100\n",
      "73/73 [==============================] - 0s 55us/step - loss: 0.0146 - mse: 0.0146 - val_loss: 0.0215 - val_mse: 0.0215\n",
      "Epoch 22/100\n",
      "73/73 [==============================] - 0s 68us/step - loss: 0.0137 - mse: 0.0137 - val_loss: 0.0210 - val_mse: 0.0210\n",
      "Epoch 23/100\n",
      "73/73 [==============================] - 0s 82us/step - loss: 0.0125 - mse: 0.0125 - val_loss: 0.0281 - val_mse: 0.0281\n",
      "Epoch 24/100\n",
      "73/73 [==============================] - 0s 68us/step - loss: 0.0128 - mse: 0.0128 - val_loss: 0.0262 - val_mse: 0.0262\n",
      "Epoch 25/100\n",
      "73/73 [==============================] - 0s 55us/step - loss: 0.0121 - mse: 0.0121 - val_loss: 0.0214 - val_mse: 0.0214\n",
      "Epoch 26/100\n",
      "73/73 [==============================] - 0s 55us/step - loss: 0.0108 - mse: 0.0108 - val_loss: 0.0190 - val_mse: 0.0190\n",
      "Epoch 27/100\n",
      "73/73 [==============================] - 0s 69us/step - loss: 0.0103 - mse: 0.0103 - val_loss: 0.0222 - val_mse: 0.0222\n",
      "Epoch 28/100\n",
      "73/73 [==============================] - 0s 68us/step - loss: 0.0104 - mse: 0.0104 - val_loss: 0.0272 - val_mse: 0.0272\n",
      "Epoch 29/100\n",
      "73/73 [==============================] - 0s 68us/step - loss: 0.0117 - mse: 0.0117 - val_loss: 0.0177 - val_mse: 0.0177\n",
      "Epoch 30/100\n",
      "73/73 [==============================] - 0s 68us/step - loss: 0.0089 - mse: 0.0089 - val_loss: 0.0192 - val_mse: 0.0192\n",
      "Epoch 31/100\n",
      "73/73 [==============================] - 0s 68us/step - loss: 0.0084 - mse: 0.0084 - val_loss: 0.0207 - val_mse: 0.0207\n",
      "Epoch 32/100\n",
      "73/73 [==============================] - 0s 55us/step - loss: 0.0083 - mse: 0.0083 - val_loss: 0.0174 - val_mse: 0.0174\n",
      "Epoch 33/100\n",
      "73/73 [==============================] - 0s 68us/step - loss: 0.0086 - mse: 0.0086 - val_loss: 0.0167 - val_mse: 0.0167\n",
      "Epoch 34/100\n",
      "73/73 [==============================] - 0s 82us/step - loss: 0.0090 - mse: 0.0090 - val_loss: 0.0218 - val_mse: 0.0218\n",
      "Epoch 35/100\n",
      "73/73 [==============================] - 0s 55us/step - loss: 0.0082 - mse: 0.0082 - val_loss: 0.0153 - val_mse: 0.0153\n",
      "Epoch 36/100\n",
      "73/73 [==============================] - 0s 68us/step - loss: 0.0075 - mse: 0.0075 - val_loss: 0.0142 - val_mse: 0.0142\n",
      "Epoch 37/100\n",
      "73/73 [==============================] - 0s 56us/step - loss: 0.0090 - mse: 0.0090 - val_loss: 0.0152 - val_mse: 0.0152\n",
      "Epoch 38/100\n",
      "73/73 [==============================] - 0s 69us/step - loss: 0.0077 - mse: 0.0077 - val_loss: 0.0153 - val_mse: 0.0153\n",
      "Epoch 39/100\n",
      "73/73 [==============================] - 0s 96us/step - loss: 0.0068 - mse: 0.0068 - val_loss: 0.0164 - val_mse: 0.0164\n",
      "Epoch 40/100\n",
      "73/73 [==============================] - 0s 69us/step - loss: 0.0068 - mse: 0.0068 - val_loss: 0.0248 - val_mse: 0.0248\n",
      "Epoch 41/100\n",
      "73/73 [==============================] - 0s 55us/step - loss: 0.0089 - mse: 0.0089 - val_loss: 0.0184 - val_mse: 0.0184\n",
      "Epoch 42/100\n",
      "73/73 [==============================] - 0s 68us/step - loss: 0.0072 - mse: 0.0072 - val_loss: 0.0154 - val_mse: 0.0154\n",
      "Epoch 43/100\n",
      "73/73 [==============================] - 0s 56us/step - loss: 0.0065 - mse: 0.0065 - val_loss: 0.0174 - val_mse: 0.0174\n",
      "Epoch 44/100\n",
      "73/73 [==============================] - 0s 82us/step - loss: 0.0070 - mse: 0.0070 - val_loss: 0.0159 - val_mse: 0.0159\n",
      "Epoch 45/100\n",
      "73/73 [==============================] - 0s 55us/step - loss: 0.0063 - mse: 0.0063 - val_loss: 0.0172 - val_mse: 0.0172\n",
      "Epoch 46/100\n",
      "73/73 [==============================] - 0s 55us/step - loss: 0.0065 - mse: 0.0065 - val_loss: 0.0127 - val_mse: 0.0127\n",
      "Epoch 47/100\n",
      "73/73 [==============================] - 0s 68us/step - loss: 0.0081 - mse: 0.0081 - val_loss: 0.0175 - val_mse: 0.0175\n",
      "Epoch 48/100\n",
      "73/73 [==============================] - 0s 55us/step - loss: 0.0079 - mse: 0.0079 - val_loss: 0.0170 - val_mse: 0.0170\n",
      "Epoch 49/100\n",
      "73/73 [==============================] - 0s 68us/step - loss: 0.0060 - mse: 0.0060 - val_loss: 0.0156 - val_mse: 0.0156\n",
      "Epoch 50/100\n",
      "73/73 [==============================] - 0s 82us/step - loss: 0.0059 - mse: 0.0059 - val_loss: 0.0214 - val_mse: 0.0214\n",
      "Epoch 51/100\n",
      "73/73 [==============================] - 0s 55us/step - loss: 0.0068 - mse: 0.0068 - val_loss: 0.0139 - val_mse: 0.0139\n",
      "Epoch 52/100\n",
      "73/73 [==============================] - 0s 55us/step - loss: 0.0065 - mse: 0.0065 - val_loss: 0.0138 - val_mse: 0.0138\n",
      "Epoch 53/100\n",
      "73/73 [==============================] - 0s 68us/step - loss: 0.0059 - mse: 0.0059 - val_loss: 0.0156 - val_mse: 0.0156\n",
      "Epoch 54/100\n",
      "73/73 [==============================] - 0s 82us/step - loss: 0.0059 - mse: 0.0059 - val_loss: 0.0196 - val_mse: 0.0196\n",
      "Epoch 55/100\n",
      "73/73 [==============================] - 0s 68us/step - loss: 0.0066 - mse: 0.0066 - val_loss: 0.0194 - val_mse: 0.0194\n",
      "Epoch 56/100\n",
      "73/73 [==============================] - 0s 64us/step - loss: 0.0064 - mse: 0.0064 - val_loss: 0.0160 - val_mse: 0.0160\n",
      "Epoch 57/100\n",
      "73/73 [==============================] - 0s 54us/step - loss: 0.0056 - mse: 0.0056 - val_loss: 0.0182 - val_mse: 0.0182\n",
      "Epoch 58/100\n",
      "73/73 [==============================] - 0s 69us/step - loss: 0.0057 - mse: 0.0057 - val_loss: 0.0180 - val_mse: 0.0180\n",
      "Epoch 59/100\n",
      "73/73 [==============================] - 0s 68us/step - loss: 0.0064 - mse: 0.0064 - val_loss: 0.0160 - val_mse: 0.0160\n",
      "Epoch 60/100\n",
      "73/73 [==============================] - 0s 109us/step - loss: 0.0052 - mse: 0.0052 - val_loss: 0.0139 - val_mse: 0.0139\n",
      "Epoch 61/100\n",
      "73/73 [==============================] - 0s 71us/step - loss: 0.0054 - mse: 0.0054 - val_loss: 0.0140 - val_mse: 0.0140\n",
      "Epoch 62/100\n"
     ]
    },
    {
     "name": "stdout",
     "output_type": "stream",
     "text": [
      "73/73 [==============================] - 0s 55us/step - loss: 0.0055 - mse: 0.0055 - val_loss: 0.0279 - val_mse: 0.0279\n",
      "Epoch 63/100\n",
      "73/73 [==============================] - 0s 96us/step - loss: 0.0093 - mse: 0.0093 - val_loss: 0.0225 - val_mse: 0.0225\n",
      "Epoch 64/100\n",
      "73/73 [==============================] - 0s 96us/step - loss: 0.0080 - mse: 0.0080 - val_loss: 0.0142 - val_mse: 0.0142\n",
      "Epoch 65/100\n",
      "73/73 [==============================] - 0s 68us/step - loss: 0.0055 - mse: 0.0055 - val_loss: 0.0128 - val_mse: 0.0128\n",
      "Epoch 66/100\n",
      "73/73 [==============================] - 0s 68us/step - loss: 0.0058 - mse: 0.0058 - val_loss: 0.0189 - val_mse: 0.0189\n",
      "Epoch 67/100\n",
      "73/73 [==============================] - 0s 68us/step - loss: 0.0059 - mse: 0.0059 - val_loss: 0.0128 - val_mse: 0.0128\n",
      "Epoch 68/100\n",
      "73/73 [==============================] - 0s 55us/step - loss: 0.0053 - mse: 0.0053 - val_loss: 0.0203 - val_mse: 0.0203\n",
      "Epoch 69/100\n",
      "73/73 [==============================] - 0s 68us/step - loss: 0.0057 - mse: 0.0057 - val_loss: 0.0153 - val_mse: 0.0153\n",
      "Epoch 70/100\n",
      "73/73 [==============================] - 0s 55us/step - loss: 0.0056 - mse: 0.0056 - val_loss: 0.0137 - val_mse: 0.0137\n",
      "Epoch 71/100\n",
      "73/73 [==============================] - 0s 55us/step - loss: 0.0059 - mse: 0.0059 - val_loss: 0.0143 - val_mse: 0.0143\n",
      "Epoch 72/100\n",
      "73/73 [==============================] - 0s 55us/step - loss: 0.0050 - mse: 0.0050 - val_loss: 0.0154 - val_mse: 0.0154\n",
      "Epoch 73/100\n",
      "73/73 [==============================] - 0s 68us/step - loss: 0.0051 - mse: 0.0051 - val_loss: 0.0136 - val_mse: 0.0136\n",
      "Epoch 74/100\n",
      "73/73 [==============================] - 0s 68us/step - loss: 0.0063 - mse: 0.0063 - val_loss: 0.0137 - val_mse: 0.0137\n",
      "Epoch 75/100\n",
      "73/73 [==============================] - 0s 55us/step - loss: 0.0052 - mse: 0.0052 - val_loss: 0.0124 - val_mse: 0.0124\n",
      "Epoch 76/100\n",
      "73/73 [==============================] - 0s 68us/step - loss: 0.0068 - mse: 0.0068 - val_loss: 0.0157 - val_mse: 0.0157\n",
      "Epoch 77/100\n",
      "73/73 [==============================] - 0s 55us/step - loss: 0.0055 - mse: 0.0055 - val_loss: 0.0117 - val_mse: 0.0117\n",
      "Epoch 78/100\n",
      "73/73 [==============================] - 0s 68us/step - loss: 0.0055 - mse: 0.0055 - val_loss: 0.0121 - val_mse: 0.0121\n",
      "Epoch 79/100\n",
      "73/73 [==============================] - 0s 68us/step - loss: 0.0055 - mse: 0.0055 - val_loss: 0.0136 - val_mse: 0.0136\n",
      "Epoch 80/100\n",
      "73/73 [==============================] - 0s 68us/step - loss: 0.0048 - mse: 0.0048 - val_loss: 0.0191 - val_mse: 0.0191\n",
      "Epoch 81/100\n",
      "73/73 [==============================] - 0s 55us/step - loss: 0.0065 - mse: 0.0065 - val_loss: 0.0139 - val_mse: 0.0139\n",
      "Epoch 82/100\n",
      "73/73 [==============================] - 0s 55us/step - loss: 0.0049 - mse: 0.0049 - val_loss: 0.0131 - val_mse: 0.0131\n",
      "Epoch 83/100\n",
      "73/73 [==============================] - 0s 55us/step - loss: 0.0074 - mse: 0.0074 - val_loss: 0.0148 - val_mse: 0.0148\n",
      "Epoch 84/100\n",
      "73/73 [==============================] - 0s 55us/step - loss: 0.0048 - mse: 0.0048 - val_loss: 0.0126 - val_mse: 0.0126\n",
      "Epoch 85/100\n",
      "73/73 [==============================] - 0s 68us/step - loss: 0.0049 - mse: 0.0049 - val_loss: 0.0160 - val_mse: 0.0160\n",
      "Epoch 86/100\n",
      "73/73 [==============================] - 0s 55us/step - loss: 0.0048 - mse: 0.0048 - val_loss: 0.0139 - val_mse: 0.0139\n",
      "Epoch 87/100\n",
      "73/73 [==============================] - 0s 55us/step - loss: 0.0048 - mse: 0.0048 - val_loss: 0.0134 - val_mse: 0.0134\n",
      "Epoch 88/100\n",
      "73/73 [==============================] - 0s 55us/step - loss: 0.0050 - mse: 0.0050 - val_loss: 0.0120 - val_mse: 0.0120\n",
      "Epoch 89/100\n",
      "73/73 [==============================] - 0s 55us/step - loss: 0.0048 - mse: 0.0048 - val_loss: 0.0224 - val_mse: 0.0224\n",
      "Epoch 90/100\n",
      "73/73 [==============================] - 0s 68us/step - loss: 0.0064 - mse: 0.0064 - val_loss: 0.0117 - val_mse: 0.0117\n",
      "Epoch 91/100\n",
      "73/73 [==============================] - 0s 68us/step - loss: 0.0061 - mse: 0.0061 - val_loss: 0.0159 - val_mse: 0.0159\n",
      "Epoch 92/100\n",
      "73/73 [==============================] - 0s 55us/step - loss: 0.0055 - mse: 0.0055 - val_loss: 0.0157 - val_mse: 0.0157\n",
      "Epoch 93/100\n",
      "73/73 [==============================] - 0s 68us/step - loss: 0.0047 - mse: 0.0047 - val_loss: 0.0119 - val_mse: 0.0119\n",
      "Epoch 94/100\n",
      "73/73 [==============================] - 0s 55us/step - loss: 0.0050 - mse: 0.0050 - val_loss: 0.0126 - val_mse: 0.0126\n",
      "Epoch 95/100\n",
      "73/73 [==============================] - 0s 70us/step - loss: 0.0057 - mse: 0.0057 - val_loss: 0.0128 - val_mse: 0.0128\n",
      "Epoch 96/100\n",
      "73/73 [==============================] - 0s 69us/step - loss: 0.0047 - mse: 0.0047 - val_loss: 0.0169 - val_mse: 0.0169\n",
      "Epoch 97/100\n",
      "73/73 [==============================] - 0s 83us/step - loss: 0.0065 - mse: 0.0065 - val_loss: 0.0123 - val_mse: 0.0123\n",
      "Epoch 98/100\n",
      "73/73 [==============================] - 0s 68us/step - loss: 0.0052 - mse: 0.0052 - val_loss: 0.0120 - val_mse: 0.0120\n",
      "Epoch 99/100\n",
      "73/73 [==============================] - 0s 55us/step - loss: 0.0050 - mse: 0.0050 - val_loss: 0.0165 - val_mse: 0.0165\n",
      "Epoch 100/100\n",
      "73/73 [==============================] - 0s 55us/step - loss: 0.0049 - mse: 0.0049 - val_loss: 0.0136 - val_mse: 0.0136\n"
     ]
    }
   ],
   "source": [
    "#Definign the number of epochs\n",
    "EPOCHS = 100\n",
    "#fitting the model\n",
    "history = model.fit(\n",
    "  X_train, y_train,\n",
    "  epochs=EPOCHS, validation_split = 0.2, verbose=1,)"
   ]
  },
  {
   "cell_type": "markdown",
   "metadata": {
    "id": "b99V-kZCnPlW"
   },
   "source": [
    "Let's plot the  validation and training loss"
   ]
  },
  {
   "cell_type": "code",
   "execution_count": 170,
   "metadata": {
    "colab": {
     "base_uri": "https://localhost:8080/",
     "height": 659
    },
    "id": "rC2n_0_wmcJH",
    "outputId": "a7fc90db-e39d-4909-eb84-7be36836a2bd"
   },
   "outputs": [
    {
     "data": {
      "image/png": "[encoded data removed]",
      "text/plain": [
       "<Figure size 576x432 with 1 Axes>"
      ]
     },
     "metadata": {
      "needs_background": "light"
     },
     "output_type": "display_data"
    }
   ],
   "source": [
    "\n",
    "N = 100\n",
    "import pylab as plt\n",
    "plt.figure(figsize=(8,6))\n",
    "plt.plot(np.arange(0, N), history.history[\"loss\"], label=\"train_loss\")\n",
    "plt.plot(np.arange(0, N), history.history[\"val_loss\"], label=\"val_loss\")\n",
    "\n",
    "plt.title(\"Training Loss and Validation loss on the dataset\")\n",
    "plt.xlabel(\"Epoch #\")\n",
    "plt.ylabel(\"train_Loss/val_loss\")\n",
    "plt.legend(loc=\"best\")\n",
    "plt.show()"
   ]
  },
  {
   "cell_type": "markdown",
   "metadata": {
    "id": "ny16YdKMEicj"
   },
   "source": [
    "\n",
    "## Testing the model\n",
    "\n"
   ]
  },
  {
   "cell_type": "code",
   "execution_count": 171,
   "metadata": {
    "colab": {
     "base_uri": "https://localhost:8080/"
    },
    "id": "UCez4c_XkLKJ",
    "outputId": "62db5f1c-5618-4df0-b3da-a5e8a5655850"
   },
   "outputs": [
    {
     "name": "stdout",
     "output_type": "stream",
     "text": [
      "\r\n",
      "30/30 [==============================] - 0s 33us/step\n"
     ]
    },
    {
     "data": {
      "text/plain": [
       "[0.005831444635987282, 0.005831444635987282]"
      ]
     },
     "execution_count": 171,
     "metadata": {},
     "output_type": "execute_result"
    }
   ],
   "source": [
    "model.evaluate(X_test,y_test)"
   ]
  },
  {
   "cell_type": "markdown",
   "metadata": {
    "id": "HOuGwdr1Etu9"
   },
   "source": [
    "Let’s predict\n"
   ]
  },
  {
   "cell_type": "code",
   "execution_count": 172,
   "metadata": {
    "id": "S6EzZe-2Lnaa"
   },
   "outputs": [],
   "source": [
    "#Lets Print the predicted prices \n",
    "test_predictionsk=model.predict(X_test)\n",
    "y_pred1=target_scaler.inverse_transform(test_predictionsk.reshape(-1, 1))"
   ]
  },
  {
   "cell_type": "markdown",
   "metadata": {
    "id": "OW-6u_WKo6JV"
   },
   "source": [
    "Let's Calculate the R2 to evaluate the model"
   ]
  },
  {
   "cell_type": "code",
   "execution_count": 173,
   "metadata": {},
   "outputs": [
    {
     "data": {
      "text/plain": [
       "array([[12500.   ],\n",
       "       [13888.   ],\n",
       "       [13995.   ],\n",
       "       [13384.   ],\n",
       "       [ 9999.   ],\n",
       "       [13425.   ],\n",
       "       [10000.   ],\n",
       "       [ 8996.   ],\n",
       "       [14495.   ],\n",
       "       [13992.001],\n",
       "       [16995.   ],\n",
       "       [15992.   ],\n",
       "       [12988.   ],\n",
       "       [15999.   ],\n",
       "       [12500.   ],\n",
       "       [14989.999],\n",
       "       [ 8999.   ],\n",
       "       [14995.   ],\n",
       "       [ 8495.   ],\n",
       "       [14906.001],\n",
       "       [13584.001],\n",
       "       [12995.   ],\n",
       "       [14992.001],\n",
       "       [ 9995.   ],\n",
       "       [14299.001],\n",
       "       [15980.   ],\n",
       "       [ 6980.   ],\n",
       "       [10815.   ],\n",
       "       [12780.   ],\n",
       "       [12999.001]], dtype=float32)"
      ]
     },
     "execution_count": 173,
     "metadata": {},
     "output_type": "execute_result"
    }
   ],
   "source": [
    "target_scaler.inverse_transform(y_test.reshape(-1, 1))"
   ]
  },
  {
   "cell_type": "code",
   "execution_count": 174,
   "metadata": {},
   "outputs": [
    {
     "data": {
      "text/plain": [
       "array([[11718.074 ],\n",
       "       [11997.596 ],\n",
       "       [14616.531 ],\n",
       "       [13757.691 ],\n",
       "       [10314.697 ],\n",
       "       [12891.368 ],\n",
       "       [10685.87  ],\n",
       "       [10510.706 ],\n",
       "       [13723.949 ],\n",
       "       [12672.745 ],\n",
       "       [16689.43  ],\n",
       "       [17942.523 ],\n",
       "       [13050.181 ],\n",
       "       [16756.162 ],\n",
       "       [11382.629 ],\n",
       "       [15730.97  ],\n",
       "       [10135.7295],\n",
       "       [13080.388 ],\n",
       "       [ 9312.516 ],\n",
       "       [13532.218 ],\n",
       "       [14512.001 ],\n",
       "       [13551.98  ],\n",
       "       [17068.53  ],\n",
       "       [10070.435 ],\n",
       "       [13775.2705],\n",
       "       [16712.877 ],\n",
       "       [ 8526.328 ],\n",
       "       [10216.485 ],\n",
       "       [13791.44  ],\n",
       "       [13483.568 ]], dtype=float32)"
      ]
     },
     "execution_count": 174,
     "metadata": {},
     "output_type": "execute_result"
    }
   ],
   "source": [
    "y_pred1"
   ]
  },
  {
   "cell_type": "code",
   "execution_count": 175,
   "metadata": {
    "colab": {
     "base_uri": "https://localhost:8080/"
    },
    "id": "P5gg0t4toj85",
    "outputId": "950c8866-8958-4930-f063-20b610c6bae7"
   },
   "outputs": [
    {
     "data": {
      "text/plain": [
       "0.8159541796489806"
      ]
     },
     "execution_count": 175,
     "metadata": {},
     "output_type": "execute_result"
    }
   ],
   "source": [
    "sklearn.metrics.r2_score(target_scaler.inverse_transform(y_test.reshape(-1, 1)),y_pred1)"
   ]
  },
  {
   "cell_type": "code",
   "execution_count": 176,
   "metadata": {
    "colab": {
     "base_uri": "https://localhost:8080/",
     "height": 391
    },
    "id": "TfEXzJdOkh6n",
    "outputId": "736c195c-8a73-4ca3-a0c8-b4df7a2b172d"
   },
   "outputs": [
    {
     "data": {
      "text/plain": [
       "<AxesSubplot:>"
      ]
     },
     "execution_count": 176,
     "metadata": {},
     "output_type": "execute_result"
    },
    {
     "data": {
      "image/png": "[encoded data removed]",
      "text/plain": [
       "<Figure size 720x432 with 1 Axes>"
      ]
     },
     "metadata": {
      "needs_background": "light"
     },
     "output_type": "display_data"
    }
   ],
   "source": [
    "plt.figure(figsize=(10,6))\n",
    "sns.residplot(x=y_pred1, y=target_scaler.inverse_transform(y_test.reshape(-1, 1)))"
   ]
  },
  {
   "cell_type": "markdown",
   "metadata": {
    "id": "R2fegjGWrMQV"
   },
   "source": [
    "**Conclusion:** \n",
    "\n",
    "Cars which are manufactured recently are costly and have  less mileage.\n",
    "\n",
    "Price of car is highly dependent on the mileage and the manufacturing year\n",
    "\n",
    "Automatic cars have higher price range than manual type cars. \n",
    "\n",
    "There is an increment in price of automatic cars between 2010 and 2015. \n",
    "\n",
    "\n",
    "\n"
   ]
  }
 ],
 "metadata": {
  "colab": {
   "collapsed_sections": [],
   "name": "Tensorflow_Mentor_Session_Case_Study_W1_Intro_to_Neura_Network.ipynb",
   "provenance": []
  },
  "interpreter": {
   "hash": "e8af5a4d10f60cef109fcd4d26beece2dab709bd6be467e2ee93303977bd7762"
  },
  "kernelspec": {
   "display_name": "Python 3.10.4 ('Three_Dot_Ten')",
   "language": "python",
   "name": "python3"
  },
  "language_info": {
   "codemirror_mode": {
    "name": "ipython",
    "version": 3
   },
   "file_extension": ".py",
   "mimetype": "text/x-python",
   "name": "python",
   "nbconvert_exporter": "python",
   "pygments_lexer": "ipython3",
   "version": "3.10.4"
  }
 },
 "nbformat": 4,
 "nbformat_minor": 1
}
